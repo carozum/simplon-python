{
 "cells": [
  {
   "cell_type": "markdown",
   "metadata": {},
   "source": [
    "# Exercice : analyse de données sur Thanksgiving"
   ]
  },
  {
   "cell_type": "markdown",
   "metadata": {},
   "source": [
    "## Import des données"
   ]
  },
  {
   "cell_type": "markdown",
   "metadata": {},
   "source": [
    "1ère étape habituelle : importer les librairies nécessaires, les données thanksgiving.csv et les afficher"
   ]
  },
  {
   "cell_type": "code",
   "execution_count": 2,
   "metadata": {},
   "outputs": [
    {
     "data": {
      "text/html": [
       "<div>\n",
       "<style scoped>\n",
       "    .dataframe tbody tr th:only-of-type {\n",
       "        vertical-align: middle;\n",
       "    }\n",
       "\n",
       "    .dataframe tbody tr th {\n",
       "        vertical-align: top;\n",
       "    }\n",
       "\n",
       "    .dataframe thead th {\n",
       "        text-align: right;\n",
       "    }\n",
       "</style>\n",
       "<table border=\"1\" class=\"dataframe\">\n",
       "  <thead>\n",
       "    <tr style=\"text-align: right;\">\n",
       "      <th></th>\n",
       "      <th>RespondentID</th>\n",
       "      <th>Do you celebrate Thanksgiving?</th>\n",
       "      <th>What is typically the main dish at your Thanksgiving dinner?</th>\n",
       "      <th>What is typically the main dish at your Thanksgiving dinner? - Other (please specify)</th>\n",
       "      <th>How is the main dish typically cooked?</th>\n",
       "      <th>How is the main dish typically cooked? - Other (please specify)</th>\n",
       "      <th>What kind of stuffing/dressing do you typically have?</th>\n",
       "      <th>What kind of stuffing/dressing do you typically have? - Other (please specify)</th>\n",
       "      <th>What type of cranberry saucedo you typically have?</th>\n",
       "      <th>What type of cranberry saucedo you typically have? - Other (please specify)</th>\n",
       "      <th>...</th>\n",
       "      <th>Have you ever tried to meet up with hometown friends on Thanksgiving night?</th>\n",
       "      <th>Have you ever attended a \"Friendsgiving?\"</th>\n",
       "      <th>Will you shop any Black Friday sales on Thanksgiving Day?</th>\n",
       "      <th>Do you work in retail?</th>\n",
       "      <th>Will you employer make you work on Black Friday?</th>\n",
       "      <th>How would you describe where you live?</th>\n",
       "      <th>Age</th>\n",
       "      <th>What is your gender?</th>\n",
       "      <th>How much total combined money did all members of your HOUSEHOLD earn last year?</th>\n",
       "      <th>US Region</th>\n",
       "    </tr>\n",
       "  </thead>\n",
       "  <tbody>\n",
       "    <tr>\n",
       "      <th>0</th>\n",
       "      <td>4337954960</td>\n",
       "      <td>Yes</td>\n",
       "      <td>Turkey</td>\n",
       "      <td>NaN</td>\n",
       "      <td>Baked</td>\n",
       "      <td>NaN</td>\n",
       "      <td>Bread-based</td>\n",
       "      <td>NaN</td>\n",
       "      <td>None</td>\n",
       "      <td>NaN</td>\n",
       "      <td>...</td>\n",
       "      <td>Yes</td>\n",
       "      <td>No</td>\n",
       "      <td>No</td>\n",
       "      <td>No</td>\n",
       "      <td>NaN</td>\n",
       "      <td>Suburban</td>\n",
       "      <td>18 - 29</td>\n",
       "      <td>Male</td>\n",
       "      <td>$75,000 to $99,999</td>\n",
       "      <td>Middle Atlantic</td>\n",
       "    </tr>\n",
       "    <tr>\n",
       "      <th>1</th>\n",
       "      <td>4337951949</td>\n",
       "      <td>Yes</td>\n",
       "      <td>Turkey</td>\n",
       "      <td>NaN</td>\n",
       "      <td>Baked</td>\n",
       "      <td>NaN</td>\n",
       "      <td>Bread-based</td>\n",
       "      <td>NaN</td>\n",
       "      <td>Other (please specify)</td>\n",
       "      <td>Homemade cranberry gelatin ring</td>\n",
       "      <td>...</td>\n",
       "      <td>No</td>\n",
       "      <td>No</td>\n",
       "      <td>Yes</td>\n",
       "      <td>No</td>\n",
       "      <td>NaN</td>\n",
       "      <td>Rural</td>\n",
       "      <td>18 - 29</td>\n",
       "      <td>Female</td>\n",
       "      <td>$50,000 to $74,999</td>\n",
       "      <td>East South Central</td>\n",
       "    </tr>\n",
       "  </tbody>\n",
       "</table>\n",
       "<p>2 rows × 65 columns</p>\n",
       "</div>"
      ],
      "text/plain": [
       "   RespondentID Do you celebrate Thanksgiving?  \\\n",
       "0    4337954960                            Yes   \n",
       "1    4337951949                            Yes   \n",
       "\n",
       "  What is typically the main dish at your Thanksgiving dinner?  \\\n",
       "0                                             Turkey             \n",
       "1                                             Turkey             \n",
       "\n",
       "  What is typically the main dish at your Thanksgiving dinner? - Other (please specify)  \\\n",
       "0                                                NaN                                      \n",
       "1                                                NaN                                      \n",
       "\n",
       "  How is the main dish typically cooked?  \\\n",
       "0                                  Baked   \n",
       "1                                  Baked   \n",
       "\n",
       "  How is the main dish typically cooked? - Other (please specify)  \\\n",
       "0                                                NaN                \n",
       "1                                                NaN                \n",
       "\n",
       "  What kind of stuffing/dressing do you typically have?  \\\n",
       "0                                        Bread-based      \n",
       "1                                        Bread-based      \n",
       "\n",
       "  What kind of stuffing/dressing do you typically have? - Other (please specify)  \\\n",
       "0                                                NaN                               \n",
       "1                                                NaN                               \n",
       "\n",
       "  What type of cranberry saucedo you typically have?  \\\n",
       "0                                               None   \n",
       "1                             Other (please specify)   \n",
       "\n",
       "  What type of cranberry saucedo you typically have? - Other (please specify)  \\\n",
       "0                                                NaN                            \n",
       "1                    Homemade cranberry gelatin ring                            \n",
       "\n",
       "   ...  \\\n",
       "0  ...   \n",
       "1  ...   \n",
       "\n",
       "  Have you ever tried to meet up with hometown friends on Thanksgiving night?  \\\n",
       "0                                                Yes                            \n",
       "1                                                 No                            \n",
       "\n",
       "  Have you ever attended a \"Friendsgiving?\"  \\\n",
       "0                                        No   \n",
       "1                                        No   \n",
       "\n",
       "  Will you shop any Black Friday sales on Thanksgiving Day?  \\\n",
       "0                                                 No          \n",
       "1                                                Yes          \n",
       "\n",
       "  Do you work in retail? Will you employer make you work on Black Friday?  \\\n",
       "0                     No                                              NaN   \n",
       "1                     No                                              NaN   \n",
       "\n",
       "  How would you describe where you live?      Age What is your gender?  \\\n",
       "0                               Suburban  18 - 29                 Male   \n",
       "1                                  Rural  18 - 29               Female   \n",
       "\n",
       "  How much total combined money did all members of your HOUSEHOLD earn last year?  \\\n",
       "0                                 $75,000 to $99,999                                \n",
       "1                                 $50,000 to $74,999                                \n",
       "\n",
       "            US Region  \n",
       "0     Middle Atlantic  \n",
       "1  East South Central  \n",
       "\n",
       "[2 rows x 65 columns]"
      ]
     },
     "execution_count": 2,
     "metadata": {},
     "output_type": "execute_result"
    }
   ],
   "source": [
    "import pandas as pd\n",
    "import os\n",
    "path = os.path.join('data', 'thanksgiving.csv')\n",
    "thanks = pd.read_csv(path)\n",
    "thanks.head(2)"
   ]
  },
  {
   "cell_type": "code",
   "execution_count": 3,
   "metadata": {},
   "outputs": [
    {
     "data": {
      "text/plain": [
       "(1058, 65)"
      ]
     },
     "execution_count": 3,
     "metadata": {},
     "output_type": "execute_result"
    }
   ],
   "source": [
    "thanks.shape"
   ]
  },
  {
   "cell_type": "code",
   "execution_count": 4,
   "metadata": {},
   "outputs": [
    {
     "data": {
      "text/plain": [
       "RespondentID                                                                              int64\n",
       "Do you celebrate Thanksgiving?                                                           object\n",
       "What is typically the main dish at your Thanksgiving dinner?                             object\n",
       "What is typically the main dish at your Thanksgiving dinner? - Other (please specify)    object\n",
       "How is the main dish typically cooked?                                                   object\n",
       "                                                                                          ...  \n",
       "How would you describe where you live?                                                   object\n",
       "Age                                                                                      object\n",
       "What is your gender?                                                                     object\n",
       "How much total combined money did all members of your HOUSEHOLD earn last year?          object\n",
       "US Region                                                                                object\n",
       "Length: 65, dtype: object"
      ]
     },
     "execution_count": 4,
     "metadata": {},
     "output_type": "execute_result"
    }
   ],
   "source": [
    "thanks.dtypes"
   ]
  },
  {
   "cell_type": "markdown",
   "metadata": {},
   "source": [
    "## Filtrage des données"
   ]
  },
  {
   "cell_type": "markdown",
   "metadata": {},
   "source": [
    "- Comptez le nombre de personne qui célèbrent Thanksgiving.  \n",
    "- Conservez dans votre dataframe uniquement les individus qui célèbrent Thanksgiving.  \n",
    ">Indications :\n",
    ">- Il existe une méthode Series.value_counts()\n",
    ">- La colonne 'Do you celebrate Thanksgiving?' devrait être utile\n",
    ">- Pour rappel, on peut tout à fait réaffecter une partie d'un dataframe à la variable contenant ce dataframe"
   ]
  },
  {
   "cell_type": "code",
   "execution_count": 7,
   "metadata": {},
   "outputs": [
    {
     "data": {
      "text/plain": [
       "\"980 persons celebrate thanksgiving, 78 don't. \""
      ]
     },
     "execution_count": 7,
     "metadata": {},
     "output_type": "execute_result"
    }
   ],
   "source": [
    "question1 = \"Do you celebrate Thanksgiving?\"\n",
    "thanks[question1].unique()\n",
    "\n",
    "def count_thanks(df, question):\n",
    "    result = df[question].value_counts()\n",
    "    return result\n",
    "\n",
    "result = count_thanks(thanks, question1)\n",
    "f\"{result[0]} persons celebrate thanksgiving, {result[1]} don't. \""
   ]
  },
  {
   "cell_type": "code",
   "execution_count": 8,
   "metadata": {},
   "outputs": [
    {
     "data": {
      "text/plain": [
       "(980, 65)"
      ]
     },
     "execution_count": 8,
     "metadata": {},
     "output_type": "execute_result"
    }
   ],
   "source": [
    "filter = (thanks[question1] == 'Yes')\n",
    "thanks = thanks[filter]\n",
    "thanks.shape"
   ]
  },
  {
   "cell_type": "markdown",
   "metadata": {},
   "source": [
    "## Exploration des données : les repas de Thanksgiving"
   ]
  },
  {
   "cell_type": "markdown",
   "metadata": {},
   "source": [
    "- Utiliser la méthode Series.value_counts() pour afficher combien de fois chaque résultat apparaît pour la question 'What is typically the main dish at your Thanksgiving dinner?'.\n",
    "- Afficher les colonnes 'What is typically the main dish at your Thanksgiving dinner?' et 'Do you typically have gravy?' pour les individus qui mangent du 'Tofurkey' (la dinde de tofu)."
   ]
  },
  {
   "cell_type": "code",
   "execution_count": 10,
   "metadata": {},
   "outputs": [
    {
     "data": {
      "text/plain": [
       "Turkey                    859\n",
       "Other (please specify)     35\n",
       "Ham/Pork                   29\n",
       "Tofurkey                   20\n",
       "Chicken                    12\n",
       "Roast beef                 11\n",
       "I don't know                5\n",
       "Turducken                   3\n",
       "Name: What is typically the main dish at your Thanksgiving dinner?, dtype: int64"
      ]
     },
     "execution_count": 10,
     "metadata": {},
     "output_type": "execute_result"
    }
   ],
   "source": [
    "question2 = 'What is typically the main dish at your Thanksgiving dinner?'\n",
    "result = count_thanks(thanks, question2)\n",
    "result"
   ]
  },
  {
   "cell_type": "code",
   "execution_count": 11,
   "metadata": {},
   "outputs": [
    {
     "data": {
      "text/html": [
       "<div>\n",
       "<style scoped>\n",
       "    .dataframe tbody tr th:only-of-type {\n",
       "        vertical-align: middle;\n",
       "    }\n",
       "\n",
       "    .dataframe tbody tr th {\n",
       "        vertical-align: top;\n",
       "    }\n",
       "\n",
       "    .dataframe thead th {\n",
       "        text-align: right;\n",
       "    }\n",
       "</style>\n",
       "<table border=\"1\" class=\"dataframe\">\n",
       "  <thead>\n",
       "    <tr style=\"text-align: right;\">\n",
       "      <th></th>\n",
       "      <th>What is typically the main dish at your Thanksgiving dinner?</th>\n",
       "      <th>Do you typically have gravy?</th>\n",
       "    </tr>\n",
       "  </thead>\n",
       "  <tbody>\n",
       "    <tr>\n",
       "      <th>4</th>\n",
       "      <td>Tofurkey</td>\n",
       "      <td>Yes</td>\n",
       "    </tr>\n",
       "    <tr>\n",
       "      <th>33</th>\n",
       "      <td>Tofurkey</td>\n",
       "      <td>Yes</td>\n",
       "    </tr>\n",
       "    <tr>\n",
       "      <th>69</th>\n",
       "      <td>Tofurkey</td>\n",
       "      <td>No</td>\n",
       "    </tr>\n",
       "    <tr>\n",
       "      <th>72</th>\n",
       "      <td>Tofurkey</td>\n",
       "      <td>No</td>\n",
       "    </tr>\n",
       "    <tr>\n",
       "      <th>77</th>\n",
       "      <td>Tofurkey</td>\n",
       "      <td>Yes</td>\n",
       "    </tr>\n",
       "    <tr>\n",
       "      <th>145</th>\n",
       "      <td>Tofurkey</td>\n",
       "      <td>Yes</td>\n",
       "    </tr>\n",
       "    <tr>\n",
       "      <th>175</th>\n",
       "      <td>Tofurkey</td>\n",
       "      <td>Yes</td>\n",
       "    </tr>\n",
       "    <tr>\n",
       "      <th>218</th>\n",
       "      <td>Tofurkey</td>\n",
       "      <td>No</td>\n",
       "    </tr>\n",
       "    <tr>\n",
       "      <th>243</th>\n",
       "      <td>Tofurkey</td>\n",
       "      <td>Yes</td>\n",
       "    </tr>\n",
       "    <tr>\n",
       "      <th>275</th>\n",
       "      <td>Tofurkey</td>\n",
       "      <td>No</td>\n",
       "    </tr>\n",
       "    <tr>\n",
       "      <th>393</th>\n",
       "      <td>Tofurkey</td>\n",
       "      <td>Yes</td>\n",
       "    </tr>\n",
       "    <tr>\n",
       "      <th>399</th>\n",
       "      <td>Tofurkey</td>\n",
       "      <td>Yes</td>\n",
       "    </tr>\n",
       "    <tr>\n",
       "      <th>571</th>\n",
       "      <td>Tofurkey</td>\n",
       "      <td>Yes</td>\n",
       "    </tr>\n",
       "    <tr>\n",
       "      <th>594</th>\n",
       "      <td>Tofurkey</td>\n",
       "      <td>Yes</td>\n",
       "    </tr>\n",
       "    <tr>\n",
       "      <th>628</th>\n",
       "      <td>Tofurkey</td>\n",
       "      <td>No</td>\n",
       "    </tr>\n",
       "    <tr>\n",
       "      <th>774</th>\n",
       "      <td>Tofurkey</td>\n",
       "      <td>No</td>\n",
       "    </tr>\n",
       "    <tr>\n",
       "      <th>820</th>\n",
       "      <td>Tofurkey</td>\n",
       "      <td>No</td>\n",
       "    </tr>\n",
       "    <tr>\n",
       "      <th>837</th>\n",
       "      <td>Tofurkey</td>\n",
       "      <td>Yes</td>\n",
       "    </tr>\n",
       "    <tr>\n",
       "      <th>860</th>\n",
       "      <td>Tofurkey</td>\n",
       "      <td>No</td>\n",
       "    </tr>\n",
       "    <tr>\n",
       "      <th>953</th>\n",
       "      <td>Tofurkey</td>\n",
       "      <td>Yes</td>\n",
       "    </tr>\n",
       "  </tbody>\n",
       "</table>\n",
       "</div>"
      ],
      "text/plain": [
       "    What is typically the main dish at your Thanksgiving dinner?  \\\n",
       "4                                             Tofurkey             \n",
       "33                                            Tofurkey             \n",
       "69                                            Tofurkey             \n",
       "72                                            Tofurkey             \n",
       "77                                            Tofurkey             \n",
       "145                                           Tofurkey             \n",
       "175                                           Tofurkey             \n",
       "218                                           Tofurkey             \n",
       "243                                           Tofurkey             \n",
       "275                                           Tofurkey             \n",
       "393                                           Tofurkey             \n",
       "399                                           Tofurkey             \n",
       "571                                           Tofurkey             \n",
       "594                                           Tofurkey             \n",
       "628                                           Tofurkey             \n",
       "774                                           Tofurkey             \n",
       "820                                           Tofurkey             \n",
       "837                                           Tofurkey             \n",
       "860                                           Tofurkey             \n",
       "953                                           Tofurkey             \n",
       "\n",
       "    Do you typically have gravy?  \n",
       "4                            Yes  \n",
       "33                           Yes  \n",
       "69                            No  \n",
       "72                            No  \n",
       "77                           Yes  \n",
       "145                          Yes  \n",
       "175                          Yes  \n",
       "218                           No  \n",
       "243                          Yes  \n",
       "275                           No  \n",
       "393                          Yes  \n",
       "399                          Yes  \n",
       "571                          Yes  \n",
       "594                          Yes  \n",
       "628                           No  \n",
       "774                           No  \n",
       "820                           No  \n",
       "837                          Yes  \n",
       "860                           No  \n",
       "953                          Yes  "
      ]
     },
     "execution_count": 11,
     "metadata": {},
     "output_type": "execute_result"
    }
   ],
   "source": [
    "question3 = 'Do you typically have gravy?'\n",
    "filter = (thanks[question2] == 'Tofurkey')\n",
    "tofurkey = thanks.loc[filter, [question2, question3]]\n",
    "tofurkey"
   ]
  },
  {
   "cell_type": "markdown",
   "metadata": {},
   "source": [
    "## Convertir l'âge en une valeur numérique"
   ]
  },
  {
   "cell_type": "markdown",
   "metadata": {},
   "source": [
    "- Ecrire une fonction permettant de convertir les valeurs de la colonne 'Age' en valeur numérique, à savoir la moyenne entre l'âge inférieur et l'âge supérieur des tranches d'âges utilisées. Cette fonction prendra donc en paramètre une chaine de caractères (les valeurs actuelles de la colonne 'Age') et retournera la moyenne des deux âges de chaque tranche.\n",
    "> Indications (si vous voulez vous pouvez faire sans bien sûr !) :\n",
    ">- Faire en sorte que la fonction ne retourne rien (cf None) si les valeurs sont nulles\n",
    ">- Remplacer le caractère '+' avec une chaine de caractères vide en remplacement pour le supprimer (méthode replace())\n",
    ">- Séparer les chaines de caractères (méthode split()) pour en extraire les bornes d'age\n",
    ">- utiliser int() pour convertir le résultat en entier\n",
    ">- Retourner le résultat\n",
    "- Utiliser la méthode Series.apply() pour appliquer la fonction à chaque valeur de la colonne 'Age' du dataframe data et créer une nouvelle variable age_num.\n",
    "- Appeler la méthode Series.describe() sur la colonne 'age_num'."
   ]
  },
  {
   "cell_type": "code",
   "execution_count": 12,
   "metadata": {},
   "outputs": [
    {
     "data": {
      "text/plain": [
       "45 - 59    269\n",
       "60+        258\n",
       "30 - 44    235\n",
       "18 - 29    185\n",
       "Name: Age, dtype: int64"
      ]
     },
     "execution_count": 12,
     "metadata": {},
     "output_type": "execute_result"
    }
   ],
   "source": [
    "thanks['Age'].value_counts()"
   ]
  },
  {
   "cell_type": "code",
   "execution_count": 13,
   "metadata": {},
   "outputs": [],
   "source": [
    "thanks['Age'] = thanks['Age'].fillna('')"
   ]
  },
  {
   "cell_type": "code",
   "execution_count": 14,
   "metadata": {},
   "outputs": [
    {
     "data": {
      "text/plain": [
       "28"
      ]
     },
     "execution_count": 14,
     "metadata": {},
     "output_type": "execute_result"
    }
   ],
   "source": [
    "def conversion(age_str):\n",
    "    if age_str == '':\n",
    "        return None\n",
    "    else:\n",
    "        if age_str == '60+':\n",
    "            return int(age_str[:2])\n",
    "        else:\n",
    "            somme = int(age_str[:2]) + int(age_str[-2:])\n",
    "            return  int(somme / 2)\n",
    "conversion('24 - 32')"
   ]
  },
  {
   "cell_type": "code",
   "execution_count": 15,
   "metadata": {},
   "outputs": [
    {
     "data": {
      "text/plain": [
       "0       23.0\n",
       "1       23.0\n",
       "2       23.0\n",
       "3       37.0\n",
       "4       37.0\n",
       "        ... \n",
       "1053    37.0\n",
       "1054    60.0\n",
       "1055    60.0\n",
       "1056     NaN\n",
       "1057     NaN\n",
       "Name: age_num, Length: 980, dtype: float64"
      ]
     },
     "execution_count": 15,
     "metadata": {},
     "output_type": "execute_result"
    }
   ],
   "source": [
    "thanks['age_num'] = thanks['Age'].apply(conversion)\n",
    "thanks['age_num']"
   ]
  },
  {
   "cell_type": "code",
   "execution_count": 16,
   "metadata": {},
   "outputs": [
    {
     "data": {
      "text/plain": [
       "52.0    269\n",
       "60.0    258\n",
       "37.0    235\n",
       "23.0    185\n",
       "Name: age_num, dtype: int64"
      ]
     },
     "execution_count": 16,
     "metadata": {},
     "output_type": "execute_result"
    }
   ],
   "source": [
    "thanks['age_num'].value_counts()"
   ]
  },
  {
   "cell_type": "code",
   "execution_count": 17,
   "metadata": {},
   "outputs": [
    {
     "data": {
      "text/plain": [
       "count    947.000000\n",
       "mean      44.791975\n",
       "std       13.630972\n",
       "min       23.000000\n",
       "25%       37.000000\n",
       "50%       52.000000\n",
       "75%       60.000000\n",
       "max       60.000000\n",
       "Name: age_num, dtype: float64"
      ]
     },
     "execution_count": 17,
     "metadata": {},
     "output_type": "execute_result"
    }
   ],
   "source": [
    "thanks['age_num'].describe()"
   ]
  },
  {
   "cell_type": "markdown",
   "metadata": {},
   "source": [
    "On a une estimation de la moyenne d'age des personnes qui ont répondu au questionnaire de 45 ans."
   ]
  },
  {
   "cell_type": "markdown",
   "metadata": {},
   "source": [
    "## Convertir les revenus en valeurs numériques"
   ]
  },
  {
   "cell_type": "markdown",
   "metadata": {},
   "source": [
    "Appliquer exactement la même méthodologie pour convertir le revenu (colonne 'How much total combined money did all members of your HOUSEHOLD earn last year?') en valeur numérique.  \n",
    "Nommer la nouvelle variable 'income_num'."
   ]
  },
  {
   "cell_type": "code",
   "execution_count": 18,
   "metadata": {},
   "outputs": [
    {
     "data": {
      "text/plain": [
       "$25,000 to $49,999      166\n",
       "$75,000 to $99,999      127\n",
       "$50,000 to $74,999      127\n",
       "Prefer not to answer    118\n",
       "$100,000 to $124,999    109\n",
       "$200,000 and up          76\n",
       "$10,000 to $24,999       60\n",
       "$0 to $9,999             52\n",
       "$125,000 to $149,999     48\n",
       "$150,000 to $174,999     38\n",
       "$175,000 to $199,999     26\n",
       "Name: How much total combined money did all members of your HOUSEHOLD earn last year?, dtype: int64"
      ]
     },
     "execution_count": 18,
     "metadata": {},
     "output_type": "execute_result"
    }
   ],
   "source": [
    "question4 = 'How much total combined money did all members of your HOUSEHOLD earn last year?'\n",
    "thanks[question4].value_counts()"
   ]
  },
  {
   "cell_type": "code",
   "execution_count": 19,
   "metadata": {},
   "outputs": [
    {
     "data": {
      "text/plain": [
       "980"
      ]
     },
     "execution_count": 19,
     "metadata": {},
     "output_type": "execute_result"
    }
   ],
   "source": [
    "thanks[question4] = thanks[question4].fillna('')\n",
    "thanks[question4].count()"
   ]
  },
  {
   "cell_type": "code",
   "execution_count": 20,
   "metadata": {},
   "outputs": [
    {
     "data": {
      "text/plain": [
       "5000"
      ]
     },
     "execution_count": 20,
     "metadata": {},
     "output_type": "execute_result"
    }
   ],
   "source": [
    "def conversion_revenue(string):\n",
    "    if string ==\"Prefer not to answer\" or string =='':\n",
    "        return None\n",
    "    else:\n",
    "        if \" and up\" in string:\n",
    "            result = string.replace(\" and up\", \"\")\n",
    "            result = result[1:].split(',')\n",
    "            return int(result[0] + result[1])\n",
    "        elif string == \"$0 to $9,999\":\n",
    "            return 5000\n",
    "        else:\n",
    "            string_split = string.split(\" to \")\n",
    "            number1 = string_split[0][1:].split(',')\n",
    "            number1 = int(number1[0] + number1[1])\n",
    "            number2 =  string_split[1][1:].split(',')\n",
    "            number2 = int(number2[0] + number2[1])\n",
    "            return int((number1 + number2)/2)\n",
    "conversion_revenue(\"$0 to $9,999\")"
   ]
  },
  {
   "cell_type": "code",
   "execution_count": 21,
   "metadata": {},
   "outputs": [
    {
     "data": {
      "text/plain": [
       "37499.0     166\n",
       "87499.0     127\n",
       "62499.0     127\n",
       "112499.0    109\n",
       "200000.0     76\n",
       "17499.0      60\n",
       "5000.0       52\n",
       "137499.0     48\n",
       "162499.0     38\n",
       "187499.0     26\n",
       "Name: income_num, dtype: int64"
      ]
     },
     "execution_count": 21,
     "metadata": {},
     "output_type": "execute_result"
    }
   ],
   "source": [
    "thanks['income_num'] = thanks[question4].apply(conversion_revenue)\n",
    "thanks['income_num'].value_counts()"
   ]
  },
  {
   "cell_type": "code",
   "execution_count": 22,
   "metadata": {},
   "outputs": [
    {
     "data": {
      "text/plain": [
       "count       829.000000\n",
       "mean      86485.885404\n",
       "std       57789.469160\n",
       "min        5000.000000\n",
       "25%       37499.000000\n",
       "50%       87499.000000\n",
       "75%      112499.000000\n",
       "max      200000.000000\n",
       "Name: income_num, dtype: float64"
      ]
     },
     "execution_count": 22,
     "metadata": {},
     "output_type": "execute_result"
    }
   ],
   "source": [
    "thanks['income_num'].describe()"
   ]
  },
  {
   "cell_type": "markdown",
   "metadata": {},
   "source": [
    "revenu moyen de $86K. Mais Std importante donc répartition des revenus très étalée. "
   ]
  },
  {
   "cell_type": "markdown",
   "metadata": {},
   "source": [
    "## Corrélation entre distance et revenus"
   ]
  },
  {
   "cell_type": "markdown",
   "metadata": {},
   "source": [
    "- Regarder de quelle manière les personnes gagnant moins de 100000 dollars voyagent.\n",
    "> _Indications :_ Utiliser les variables 'int_income' et 'How far will you travel for Thanksgiving?'\n",
    "- Faire de même avec les personnes gagnant plus de 100000 dollars."
   ]
  },
  {
   "cell_type": "code",
   "execution_count": 23,
   "metadata": {},
   "outputs": [
    {
     "data": {
      "text/plain": [
       "Thanksgiving is happening at my home--I won't travel at all                         396\n",
       "Thanksgiving is local--it will take place in the town I live in                     276\n",
       "Thanksgiving is out of town but not too far--it's a drive of a few hours or less    197\n",
       "Thanksgiving is out of town and far away--I have to drive several hours or fly       82\n",
       "Name: How far will you travel for Thanksgiving?, dtype: int64"
      ]
     },
     "execution_count": 23,
     "metadata": {},
     "output_type": "execute_result"
    }
   ],
   "source": [
    "question5 = 'How far will you travel for Thanksgiving?'\n",
    "thanks[question5].value_counts()"
   ]
  },
  {
   "cell_type": "code",
   "execution_count": 24,
   "metadata": {},
   "outputs": [
    {
     "data": {
      "text/plain": [
       "951"
      ]
     },
     "execution_count": 24,
     "metadata": {},
     "output_type": "execute_result"
    }
   ],
   "source": [
    "thanks[question5].count()"
   ]
  },
  {
   "cell_type": "code",
   "execution_count": 25,
   "metadata": {},
   "outputs": [
    {
     "data": {
      "text/plain": [
       "count                                                   951\n",
       "unique                                                    4\n",
       "top       Thanksgiving is happening at my home--I won't ...\n",
       "freq                                                    396\n",
       "Name: How far will you travel for Thanksgiving?, dtype: object"
      ]
     },
     "execution_count": 25,
     "metadata": {},
     "output_type": "execute_result"
    }
   ],
   "source": [
    "thanks[question5].describe()"
   ]
  },
  {
   "cell_type": "code",
   "execution_count": 26,
   "metadata": {},
   "outputs": [
    {
     "data": {
      "text/plain": [
       "How far will you travel for Thanksgiving?                                       \n",
       "Thanksgiving is happening at my home--I won't travel at all                         205\n",
       "Thanksgiving is local--it will take place in the town I live in                     163\n",
       "Thanksgiving is out of town but not too far--it's a drive of a few hours or less    126\n",
       "Thanksgiving is out of town and far away--I have to drive several hours or fly       38\n",
       "dtype: int64"
      ]
     },
     "execution_count": 26,
     "metadata": {},
     "output_type": "execute_result"
    }
   ],
   "source": [
    "filter = thanks['income_num'] < 100000\n",
    "thanks.loc[filter, [question5]].value_counts()"
   ]
  },
  {
   "cell_type": "code",
   "execution_count": 40,
   "metadata": {},
   "outputs": [
    {
     "data": {
      "text/plain": [
       "How far will you travel for Thanksgiving?                                       \n",
       "Thanksgiving is happening at my home--I won't travel at all                         191\n",
       "Thanksgiving is local--it will take place in the town I live in                     113\n",
       "Thanksgiving is out of town but not too far--it's a drive of a few hours or less     71\n",
       "Thanksgiving is out of town and far away--I have to drive several hours or fly       44\n",
       "dtype: int64"
      ]
     },
     "execution_count": 40,
     "metadata": {},
     "output_type": "execute_result"
    }
   ],
   "source": [
    "thanks.loc[~filter, [question5]].value_counts()"
   ]
  },
  {
   "cell_type": "code",
   "execution_count": 46,
   "metadata": {},
   "outputs": [],
   "source": [
    "pivot = thanks[filter].pivot_table(index=[question5], values = [\"income_num\"], aggfunc=['mean', 'count'], \n",
    "                                   margins=True)\n",
    "\n",
    "\n",
    "\n",
    "#total = pivot.loc['All', ('count', 'income_num')]\n",
    "#pivot['percentage_income'] = pivot[('count', 'income_num')] / total * 100\n",
    "#pivot"
   ]
  },
  {
   "cell_type": "code",
   "execution_count": 50,
   "metadata": {},
   "outputs": [],
   "source": [
    "def pct(series):\n",
    "    tot = series['All']\n",
    "    return(np.round(series/tot *100), 2)"
   ]
  },
  {
   "cell_type": "code",
   "execution_count": 51,
   "metadata": {},
   "outputs": [
    {
     "data": {
      "text/plain": [
       "(How far will you travel for Thanksgiving?\n",
       " Thanksgiving is happening at my home--I won't travel at all                          39.0\n",
       " Thanksgiving is local--it will take place in the town I live in                      31.0\n",
       " Thanksgiving is out of town and far away--I have to drive several hours or fly        7.0\n",
       " Thanksgiving is out of town but not too far--it's a drive of a few hours or less     24.0\n",
       " All                                                                                 100.0\n",
       " Name: (count, income_num), dtype: float64,\n",
       " 2)"
      ]
     },
     "execution_count": 51,
     "metadata": {},
     "output_type": "execute_result"
    }
   ],
   "source": [
    "pct(pivot[('count', 'income_num')])"
   ]
  },
  {
   "cell_type": "code",
   "execution_count": 52,
   "metadata": {},
   "outputs": [
    {
     "data": {
      "text/plain": [
       "(How far will you travel for Thanksgiving?\n",
       " Thanksgiving is happening at my home--I won't travel at all                          48.0\n",
       " Thanksgiving is local--it will take place in the town I live in                      25.0\n",
       " Thanksgiving is out of town and far away--I have to drive several hours or fly       11.0\n",
       " Thanksgiving is out of town but not too far--it's a drive of a few hours or less     16.0\n",
       " All                                                                                 100.0\n",
       " Name: (count, income_num), dtype: float64,\n",
       " 2)"
      ]
     },
     "execution_count": 52,
     "metadata": {},
     "output_type": "execute_result"
    }
   ],
   "source": [
    "pivot_high = thanks[~filter].pivot_table(index=[question5], values = [\"income_num\"], aggfunc=['mean', 'count'], \n",
    "                                         margins=True)\n",
    "#total_high = pivot_high.loc['All', ('count', 'income_num')]\n",
    "#pivot_high['percentage_income'] = pivot_high[('count', 'income_num')] / total_high * 100\n",
    "pct(pivot_high[('count', 'income_num')])"
   ]
  },
  {
   "cell_type": "markdown",
   "metadata": {},
   "source": [
    "Il ne semble pas si clair que les revenus soient liés aux déplacements loin. Certainement la tradition familiale est ce qui guide le plus les choix. "
   ]
  },
  {
   "cell_type": "markdown",
   "metadata": {},
   "source": [
    "## Lien entre passer Thanksgiving entre amis avec l'âge et le revenu"
   ]
  },
  {
   "cell_type": "markdown",
   "metadata": {},
   "source": [
    "- Générer un pivot de table pour regarder la moyenne d'âge des sondés pour chaque catégorie des questions 'Have you ever tried to meet up with hometown friends on Thanksgiving night?' et 'Have you ever attended a \"Friendsgiving?\"'.\n",
    "> _Indications :_ utiliser les colonnes 'Have you ever tried to meet up with hometown friends on Thanksgiving night?','Have you ever attended a \"Friendsgiving?\"' et 'age_num'\n",
    "- Faire de même pour les revenus avec ces 2 questions."
   ]
  },
  {
   "cell_type": "code",
   "execution_count": 57,
   "metadata": {},
   "outputs": [],
   "source": [
    "question6 = 'Have you ever tried to meet up with hometown friends on Thanksgiving night?'\n",
    "question7 = 'Have you ever attended a \"Friendsgiving?\"'"
   ]
  },
  {
   "cell_type": "code",
   "execution_count": 60,
   "metadata": {},
   "outputs": [
    {
     "data": {
      "text/html": [
       "<div>\n",
       "<style scoped>\n",
       "    .dataframe tbody tr th:only-of-type {\n",
       "        vertical-align: middle;\n",
       "    }\n",
       "\n",
       "    .dataframe tbody tr th {\n",
       "        vertical-align: top;\n",
       "    }\n",
       "\n",
       "    .dataframe thead th {\n",
       "        text-align: right;\n",
       "    }\n",
       "</style>\n",
       "<table border=\"1\" class=\"dataframe\">\n",
       "  <thead>\n",
       "    <tr style=\"text-align: right;\">\n",
       "      <th>Have you ever attended a \"Friendsgiving?\"</th>\n",
       "      <th>No</th>\n",
       "      <th>Yes</th>\n",
       "    </tr>\n",
       "    <tr>\n",
       "      <th>Have you ever tried to meet up with hometown friends on Thanksgiving night?</th>\n",
       "      <th></th>\n",
       "      <th></th>\n",
       "    </tr>\n",
       "  </thead>\n",
       "  <tbody>\n",
       "    <tr>\n",
       "      <th>No</th>\n",
       "      <td>46.645875</td>\n",
       "      <td>41.926316</td>\n",
       "    </tr>\n",
       "    <tr>\n",
       "      <th>Yes</th>\n",
       "      <td>46.289617</td>\n",
       "      <td>39.424419</td>\n",
       "    </tr>\n",
       "  </tbody>\n",
       "</table>\n",
       "</div>"
      ],
      "text/plain": [
       "Have you ever attended a \"Friendsgiving?\"                  No        Yes\n",
       "Have you ever tried to meet up with hometown fr...                      \n",
       "No                                                  46.645875  41.926316\n",
       "Yes                                                 46.289617  39.424419"
      ]
     },
     "execution_count": 60,
     "metadata": {},
     "output_type": "execute_result"
    }
   ],
   "source": [
    "thanks.pivot_table(index=[question6], columns = [question7], values='age_num', aggfunc='mean')"
   ]
  },
  {
   "cell_type": "code",
   "execution_count": 63,
   "metadata": {},
   "outputs": [
    {
     "data": {
      "text/html": [
       "<div>\n",
       "<style scoped>\n",
       "    .dataframe tbody tr th:only-of-type {\n",
       "        vertical-align: middle;\n",
       "    }\n",
       "\n",
       "    .dataframe tbody tr th {\n",
       "        vertical-align: top;\n",
       "    }\n",
       "\n",
       "    .dataframe thead th {\n",
       "        text-align: right;\n",
       "    }\n",
       "</style>\n",
       "<table border=\"1\" class=\"dataframe\">\n",
       "  <thead>\n",
       "    <tr style=\"text-align: right;\">\n",
       "      <th>Have you ever attended a \"Friendsgiving?\"</th>\n",
       "      <th>No</th>\n",
       "      <th>Yes</th>\n",
       "    </tr>\n",
       "    <tr>\n",
       "      <th>Have you ever tried to meet up with hometown friends on Thanksgiving night?</th>\n",
       "      <th></th>\n",
       "      <th></th>\n",
       "    </tr>\n",
       "  </thead>\n",
       "  <tbody>\n",
       "    <tr>\n",
       "      <th>No</th>\n",
       "      <td>89456.420323</td>\n",
       "      <td>83124.197368</td>\n",
       "    </tr>\n",
       "    <tr>\n",
       "      <th>Yes</th>\n",
       "      <td>89552.702381</td>\n",
       "      <td>76314.973684</td>\n",
       "    </tr>\n",
       "  </tbody>\n",
       "</table>\n",
       "</div>"
      ],
      "text/plain": [
       "Have you ever attended a \"Friendsgiving?\"                     No           Yes\n",
       "Have you ever tried to meet up with hometown fr...                            \n",
       "No                                                  89456.420323  83124.197368\n",
       "Yes                                                 89552.702381  76314.973684"
      ]
     },
     "execution_count": 63,
     "metadata": {},
     "output_type": "execute_result"
    }
   ],
   "source": [
    "thanks.pivot_table(index=[question6], columns=[question7], values='income_num', aggfunc='mean')"
   ]
  },
  {
   "cell_type": "markdown",
   "metadata": {},
   "source": [
    "Fête essentiellement familiale. Revenus les plus bas qui le fêtent avec des amis. "
   ]
  },
  {
   "cell_type": "code",
   "execution_count": null,
   "metadata": {},
   "outputs": [],
   "source": []
  }
 ],
 "metadata": {
  "kernelspec": {
   "display_name": "Python 3",
   "language": "python",
   "name": "python3"
  },
  "language_info": {
   "codemirror_mode": {
    "name": "ipython",
    "version": 3
   },
   "file_extension": ".py",
   "mimetype": "text/x-python",
   "name": "python",
   "nbconvert_exporter": "python",
   "pygments_lexer": "ipython3",
   "version": "3.9.5"
  }
 },
 "nbformat": 4,
 "nbformat_minor": 4
}
