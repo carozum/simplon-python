{
 "cells": [
  {
   "cell_type": "markdown",
   "metadata": {},
   "source": [
    "Initiation à ```python```\n",
    "============"
   ]
  },
  {
   "cell_type": "markdown",
   "metadata": {},
   "source": [
    "Sommaire:\n",
    "--------\n",
    "Introduction au langage:\n",
    "- Avantages de python\n",
    "- Racourcis Jupyter\n",
    "- Les types numériques\n",
    "- Les chaînes de caractères\n",
    "- Les bouléens et conditions\n",
    "- Les boucles\n",
    "- Les fonctions\n",
    "- Les listes\n",
    "- Les dictionaires"
   ]
  },
  {
   "cell_type": "markdown",
   "metadata": {},
   "source": [
    "Avantages de ```python```\n",
    "-------------------------\n",
    "* Langage lisible et simple de prise en main\n",
    "* Très utilisé (Youtube est développé en ```python```) avec une communauté active\n",
    "* Open Source\n",
    "* Multi OS\n",
    "* Nombreux packages allant du machine learning au dévelopement web"
   ]
  },
  {
   "cell_type": "markdown",
   "metadata": {},
   "source": [
    "Jupyter\n",
    "--------\n",
    "\n",
    "Jupyter est un service Web permettant de faire des notebooks. Ces notebooks facilitent le développement intéractif et sont de bons outils d'exploration données entre autres.\n",
    "\n",
    "Quelques raccourcis utiles pour l'utilisation de jupyter\n",
    "\n",
    "En mode navigation:\n",
    "* ```Shift + Enter``` : Lancer une cellule \n",
    "* ```Enter``` : Passer en mode édition\n",
    "* ```M``` : Passer la cellule en mode Markdown\n",
    "* ```Y``` : Passer la cellule en mode code\n",
    "* ```A``` : Insérer une cellule Au-dessus (Above)\n",
    "* ```B``` : Insérer une cellule en Bas (Below)\n",
    "* ```O``` : Permet de fermer la sortie d'une cellule, utile quand celui-ci prend trop de place par exemple\n",
    "\n",
    "En mode édition: \n",
    "* ```Shift + Enter``` : Lancer une cellule \n",
    "* ```Esc``` : Retour au mode de navigation entre les cellules\n",
    "* ```Shift``` : Autocomplétion\n",
    "* ```Shift+Tab``` : Documentation/aide de la fonction ou méthode utilisée. Premier ```Tab``` résumé de la documentation, deuxième ```Tab``` documentation complète\n",
    "* ```Alt+flèche``` : Aller au début ou en fin de ligne"
   ]
  },
  {
   "cell_type": "markdown",
   "metadata": {},
   "source": [
    "*N'hésitez pas à modifier le code pour voir ce qu'il se passe*\n",
    "------------------\n",
    "Les types numériques\n",
    "-------"
   ]
  },
  {
   "cell_type": "code",
   "execution_count": 158,
   "metadata": {},
   "outputs": [],
   "source": [
    "# On va commencer par assigner une variable\n",
    "a = 1"
   ]
  },
  {
   "cell_type": "code",
   "execution_count": 159,
   "metadata": {},
   "outputs": [
    {
     "data": {
      "text/plain": [
       "1"
      ]
     },
     "execution_count": 159,
     "metadata": {},
     "output_type": "execute_result"
    }
   ],
   "source": [
    "# Il suffit de la réindiquer pour voir sa valeur\n",
    "a"
   ]
  },
  {
   "cell_type": "code",
   "execution_count": 160,
   "metadata": {},
   "outputs": [
    {
     "data": {
      "text/plain": [
       "4"
      ]
     },
     "execution_count": 160,
     "metadata": {},
     "output_type": "execute_result"
    }
   ],
   "source": [
    "# Une variable peut être réassignée\n",
    "a = 4\n",
    "a"
   ]
  },
  {
   "cell_type": "code",
   "execution_count": 161,
   "metadata": {},
   "outputs": [
    {
     "data": {
      "text/plain": [
       "9"
      ]
     },
     "execution_count": 161,
     "metadata": {},
     "output_type": "execute_result"
    }
   ],
   "source": [
    "# De différentes manières\n",
    "a = a + 1 + 1 + 1 + \\\n",
    "1 + 1\n",
    "# Le \\ permet de revenir à la ligne\n",
    "a"
   ]
  },
  {
   "cell_type": "code",
   "execution_count": 162,
   "metadata": {},
   "outputs": [
    {
     "data": {
      "text/plain": [
       "13"
      ]
     },
     "execution_count": 162,
     "metadata": {},
     "output_type": "execute_result"
    }
   ],
   "source": [
    "a += 2 * 2 # * pour la multiplication\n",
    "a"
   ]
  },
  {
   "cell_type": "code",
   "execution_count": 163,
   "metadata": {},
   "outputs": [
    {
     "data": {
      "text/plain": [
       "25"
      ]
     },
     "execution_count": 163,
     "metadata": {},
     "output_type": "execute_result"
    }
   ],
   "source": [
    "b = 5 ** 2 # ** pour la puissance\n",
    "b"
   ]
  },
  {
   "cell_type": "code",
   "execution_count": 164,
   "metadata": {},
   "outputs": [
    {
     "data": {
      "text/plain": [
       "38"
      ]
     },
     "execution_count": 164,
     "metadata": {},
     "output_type": "execute_result"
    }
   ],
   "source": [
    "eval('a+b')"
   ]
  },
  {
   "cell_type": "code",
   "execution_count": 165,
   "metadata": {},
   "outputs": [
    {
     "name": "stdout",
     "output_type": "stream",
     "text": [
      "Donner moi un chiffre4\n"
     ]
    }
   ],
   "source": [
    "a = input(\"Donner moi un chiffre\")"
   ]
  },
  {
   "cell_type": "code",
   "execution_count": 166,
   "metadata": {},
   "outputs": [
    {
     "data": {
      "text/plain": [
       "('4', str)"
      ]
     },
     "execution_count": 166,
     "metadata": {},
     "output_type": "execute_result"
    }
   ],
   "source": [
    "a, type(a)"
   ]
  },
  {
   "cell_type": "code",
   "execution_count": 167,
   "metadata": {},
   "outputs": [
    {
     "name": "stdout",
     "output_type": "stream",
     "text": [
      "1 5 10\n"
     ]
    }
   ],
   "source": [
    "# il est possible de faire de la multi assignation\n",
    "a, b, c = 1, 5, 10\n",
    "\n",
    "# print() permet d'imprimer dans la console\n",
    "print(a,b,c)"
   ]
  },
  {
   "cell_type": "code",
   "execution_count": 168,
   "metadata": {},
   "outputs": [
    {
     "name": "stdout",
     "output_type": "stream",
     "text": [
      "6 16 26\n"
     ]
    }
   ],
   "source": [
    "a, b, c = 1, 5, 10\n",
    "a = a+b\n",
    "b = a+c\n",
    "c = b+c\n",
    "print(a,b,c)"
   ]
  },
  {
   "cell_type": "code",
   "execution_count": 169,
   "metadata": {},
   "outputs": [
    {
     "name": "stdout",
     "output_type": "stream",
     "text": [
      "22 32 42\n"
     ]
    }
   ],
   "source": [
    "a, b, c = a+b, a+c, b+c\n",
    "print(a,b,c)"
   ]
  },
  {
   "cell_type": "code",
   "execution_count": 170,
   "metadata": {},
   "outputs": [
    {
     "data": {
      "text/plain": [
       "3.14"
      ]
     },
     "execution_count": 170,
     "metadata": {},
     "output_type": "execute_result"
    }
   ],
   "source": [
    "# En plus des integer (int) il y a les float disponibles dans python\n",
    "pi = 3.14\n",
    "pi"
   ]
  },
  {
   "cell_type": "code",
   "execution_count": 171,
   "metadata": {
    "scrolled": true
   },
   "outputs": [
    {
     "data": {
      "text/plain": [
       "int"
      ]
     },
     "execution_count": 171,
     "metadata": {},
     "output_type": "execute_result"
    }
   ],
   "source": [
    "# On peut retrouver le type de variable grâce à type()\n",
    "type(a)"
   ]
  },
  {
   "cell_type": "code",
   "execution_count": 172,
   "metadata": {},
   "outputs": [
    {
     "data": {
      "text/plain": [
       "float"
      ]
     },
     "execution_count": 172,
     "metadata": {},
     "output_type": "execute_result"
    }
   ],
   "source": [
    "type(pi)"
   ]
  },
  {
   "cell_type": "markdown",
   "metadata": {},
   "source": [
    "Exo 1\n",
    "------\n",
    "Assigner la variable ```preums``` à 125 et ```deuz``` à 15 puis mettre la division dans une troisième variable du nom de votre choix. Imprimer cette variable."
   ]
  },
  {
   "cell_type": "code",
   "execution_count": 173,
   "metadata": {},
   "outputs": [
    {
     "name": "stdout",
     "output_type": "stream",
     "text": [
      "8.333333333333334\n"
     ]
    }
   ],
   "source": [
    "preums = 125\n",
    "deuz = 15\n",
    "division = 125/15\n",
    "print(division)"
   ]
  },
  {
   "cell_type": "markdown",
   "metadata": {},
   "source": [
    "Les chaînes de caractères\n",
    "----"
   ]
  },
  {
   "cell_type": "code",
   "execution_count": 174,
   "metadata": {},
   "outputs": [
    {
     "name": "stdout",
     "output_type": "stream",
     "text": [
      "Ma première chaîne est : Bonjour tout le monde !\n"
     ]
    }
   ],
   "source": [
    "# Il y a aussi les string qui sont des chaînes de caractères\n",
    "ma_chaine = 'Bonjour tout le monde !'\n",
    "print(f'Ma première chaîne est : {ma_chaine}')"
   ]
  },
  {
   "cell_type": "code",
   "execution_count": 175,
   "metadata": {},
   "outputs": [
    {
     "name": "stdout",
     "output_type": "stream",
     "text": [
      "Les simples cotes marchent.\n",
      "Les doubles aussi avec la possiblité de mettre les simples 'Comme ceci'.\n",
      "Les triples sont utiles pour le passage à la ligne\n",
      "dans une même chaîne.\n",
      "L'échapement permet d'avoir des caractères spéciaux dans une chaîne de caractères.\n",
      "C'est aussi bon comme ça\n",
      "Le type des chaînes de caractères est: <class 'str'>\n"
     ]
    }
   ],
   "source": [
    "# Plusieurs possibilités pour les chaînes de caractères:\n",
    "simple_cote = 'Les simples cotes marchent.'\n",
    "double_cote = \"Les doubles aussi avec la possiblité de mettre les simples 'Comme ceci'.\"\n",
    "triple_double_cote= \"\"\"Les triples sont utiles pour le passage à la ligne\n",
    "dans une même chaîne.\"\"\"\n",
    "echapement = 'L\\'échapement permet d\\'avoir des caractères spéciaux dans une chaîne de caractères.'\n",
    "autre_echap = \"C'est aussi bon comme ça\"\n",
    "\n",
    "print(simple_cote)\n",
    "print(double_cote)\n",
    "print(triple_double_cote)\n",
    "print(echapement)\n",
    "print(autre_echap)\n",
    "print('Le type des chaînes de caractères est:',type(simple_cote))"
   ]
  },
  {
   "cell_type": "code",
   "execution_count": 176,
   "metadata": {},
   "outputs": [
    {
     "name": "stdout",
     "output_type": "stream",
     "text": [
      "On peut donc les concaténer\n",
      "voire les multiplier, multiplier, multiplier, ...\n"
     ]
    }
   ],
   "source": [
    "# Les string sont des séquences de caractères\n",
    "concatenation = 'On peut donc les' + ' concaténer'\n",
    "multi = 'voire les ' + 'multiplier, ' * 3 + '...'\n",
    "\n",
    "print(concatenation)\n",
    "print(multi)"
   ]
  },
  {
   "cell_type": "code",
   "execution_count": 177,
   "metadata": {},
   "outputs": [
    {
     "name": "stdout",
     "output_type": "stream",
     "text": [
      "La variable 'a' a pour valeur 22\n",
      "On preums = 125\n"
     ]
    }
   ],
   "source": [
    "# il est possible de faire du formatage de string en utilisant f\" mon string avec {ma_variable}\"\n",
    "je_formate = f\"La variable 'a' a pour valeur {a}\"\n",
    "tu_formates = f\"On preums = 125\"\n",
    "deuz=15\n",
    "c = preums/deuz\n",
    "d = preums//deuz\n",
    "e = preums%deuz\n",
    "c, type(c), d, type(d), e, type(e)\n",
    "\n",
    "# a = b * (a//b) + (a%b)eut mettre des strings comme par exemple: {je_formate}\"\n",
    "\n",
    "print(je_formate)\n",
    "print(tu_formates)"
   ]
  },
  {
   "cell_type": "code",
   "execution_count": 178,
   "metadata": {},
   "outputs": [
    {
     "data": {
      "text/plain": [
       "'o'"
      ]
     },
     "execution_count": 178,
     "metadata": {},
     "output_type": "execute_result"
    }
   ],
   "source": [
    "# Les string sont considérés comme des séquences de caractères. \n",
    "# On peut faire de l'extraction d'éléments en utilisant les crochets mon_string[mon_element]\n",
    "# Les éléments commencent à l'indice 0 dans python.\n",
    "\n",
    "mon_string = \"bonjour, appuyer sans cesse sur shift+enter m'épuise\"\n",
    "mon_string[1]"
   ]
  },
  {
   "cell_type": "code",
   "execution_count": 179,
   "metadata": {},
   "outputs": [
    {
     "data": {
      "text/plain": [
       "'e'"
      ]
     },
     "execution_count": 179,
     "metadata": {},
     "output_type": "execute_result"
    }
   ],
   "source": [
    "# On peut récupérer des éléments en commencant par la fin en utilisant l'opérateur -\n",
    "# Par exemple le dernier élément est à l'indice -1\n",
    "\n",
    "mon_string[-1]"
   ]
  },
  {
   "cell_type": "code",
   "execution_count": 180,
   "metadata": {},
   "outputs": [
    {
     "data": {
      "text/plain": [
       "'p'"
      ]
     },
     "execution_count": 180,
     "metadata": {},
     "output_type": "execute_result"
    }
   ],
   "source": [
    "mon_string[-5]"
   ]
  },
  {
   "cell_type": "code",
   "execution_count": 181,
   "metadata": {},
   "outputs": [
    {
     "data": {
      "text/plain": [
       "'njo'"
      ]
     },
     "execution_count": 181,
     "metadata": {},
     "output_type": "execute_result"
    }
   ],
   "source": [
    "# Il est possible de récupérer plusieurs élements d'une séquence en utilisant l'opérateur :\n",
    "# Ce concept est appeler \"slicing\"\n",
    "\n",
    "mon_string[2:5]"
   ]
  },
  {
   "cell_type": "code",
   "execution_count": 182,
   "metadata": {},
   "outputs": [
    {
     "data": {
      "text/plain": [
       "'bonjour, a'"
      ]
     },
     "execution_count": 182,
     "metadata": {},
     "output_type": "execute_result"
    }
   ],
   "source": [
    "mon_string[:10]"
   ]
  },
  {
   "cell_type": "code",
   "execution_count": 183,
   "metadata": {},
   "outputs": [
    {
     "data": {
      "text/plain": [
       "52"
      ]
     },
     "execution_count": 183,
     "metadata": {},
     "output_type": "execute_result"
    }
   ],
   "source": [
    "# len(mon_string) va permettre de connaître la taille d'un string\n",
    "\n",
    "len(mon_string)"
   ]
  },
  {
   "cell_type": "code",
   "execution_count": 184,
   "metadata": {},
   "outputs": [
    {
     "data": {
      "text/plain": [
       "\"r m'épuise\""
      ]
     },
     "execution_count": 184,
     "metadata": {},
     "output_type": "execute_result"
    }
   ],
   "source": [
    "# On peut récupérer l'ensemble des éléments jusqu'à la fin en utilisant la longueur du string\n",
    "\n",
    "mon_string[42:len(mon_string)]"
   ]
  },
  {
   "cell_type": "code",
   "execution_count": 185,
   "metadata": {},
   "outputs": [
    {
     "data": {
      "text/plain": [
       "\"r m'épuise\""
      ]
     },
     "execution_count": 185,
     "metadata": {},
     "output_type": "execute_result"
    }
   ],
   "source": [
    "# En ne mettant pas d'indice avant ou après le : permet de récupérer l'ensemble des éléments avant ou après l'indice\n",
    "\n",
    "mon_string[42:]"
   ]
  },
  {
   "cell_type": "code",
   "execution_count": 186,
   "metadata": {},
   "outputs": [
    {
     "data": {
      "text/plain": [
       "'bonjour'"
      ]
     },
     "execution_count": 186,
     "metadata": {},
     "output_type": "execute_result"
    }
   ],
   "source": [
    "mon_string[:7]"
   ]
  },
  {
   "cell_type": "code",
   "execution_count": 187,
   "metadata": {},
   "outputs": [
    {
     "data": {
      "text/plain": [
       "'bonjour'"
      ]
     },
     "execution_count": 187,
     "metadata": {},
     "output_type": "execute_result"
    }
   ],
   "source": [
    "# On peut utiliser les indices négatifs pour faire des combinaisons équivalentes\n",
    "\n",
    "mon_string[:-45]"
   ]
  },
  {
   "cell_type": "code",
   "execution_count": 188,
   "metadata": {},
   "outputs": [
    {
     "data": {
      "text/plain": [
       "''"
      ]
     },
     "execution_count": 188,
     "metadata": {},
     "output_type": "execute_result"
    }
   ],
   "source": [
    "# Dans les cas impossibles le string retourné est vide\n",
    "\n",
    "mon_string[25:2]"
   ]
  },
  {
   "cell_type": "code",
   "execution_count": 190,
   "metadata": {
    "scrolled": true
   },
   "outputs": [
    {
     "ename": "TypeError",
     "evalue": "'str' object does not support item assignment",
     "output_type": "error",
     "traceback": [
      "\u001b[0;31m---------------------------------------------------------------------------\u001b[0m",
      "\u001b[0;31mTypeError\u001b[0m                                 Traceback (most recent call last)",
      "Input \u001b[0;32mIn [190]\u001b[0m, in \u001b[0;36m<cell line: 3>\u001b[0;34m()\u001b[0m\n\u001b[1;32m      1\u001b[0m \u001b[38;5;66;03m# Il n'est pas possible de modifier un élément d'un string, ceux-ci sont immutables\u001b[39;00m\n\u001b[0;32m----> 3\u001b[0m mon_string[\u001b[38;5;241m0\u001b[39m] \u001b[38;5;241m=\u001b[39m \u001b[38;5;124m'\u001b[39m\u001b[38;5;124mB\u001b[39m\u001b[38;5;124m'\u001b[39m\n",
      "\u001b[0;31mTypeError\u001b[0m: 'str' object does not support item assignment"
     ]
    }
   ],
   "source": [
    "# Il n'est pas possible de modifier un élément d'un string, ceux-ci sont immutables\n",
    "\n",
    "mon_string[0] = 'B'"
   ]
  },
  {
   "cell_type": "code",
   "execution_count": 191,
   "metadata": {},
   "outputs": [
    {
     "data": {
      "text/plain": [
       "\"Bonjour, appuyer sans cesse sur shift+enter m'épuise\""
      ]
     },
     "execution_count": 191,
     "metadata": {},
     "output_type": "execute_result"
    }
   ],
   "source": [
    "# Pour faire un équivalent il faut réassigner mon_string\n",
    "\n",
    "mon_string = 'B' + mon_string[1:]\n",
    "mon_string"
   ]
  },
  {
   "cell_type": "markdown",
   "metadata": {},
   "source": [
    "Exo 2\n",
    "---------\n",
    "Créer un string de votre choix, remplacer les 8ième et 9ième éléments par \"42\" en utilisant le slicing avec l'opérateur ```\":\"``` et la concaténation. Imprimer ce string."
   ]
  },
  {
   "cell_type": "code",
   "execution_count": 192,
   "metadata": {},
   "outputs": [
    {
     "name": "stdout",
     "output_type": "stream",
     "text": [
      "Hello m42name is Caroline\n"
     ]
    }
   ],
   "source": [
    "chaine = \"Hello my name is Caroline\"\n",
    "print(chaine[:7] + \"42\" + chaine[9:])"
   ]
  },
  {
   "cell_type": "markdown",
   "metadata": {},
   "source": [
    "Bouléens et conditions\n",
    "---------------------"
   ]
  },
  {
   "cell_type": "code",
   "execution_count": 193,
   "metadata": {
    "jupyter": {
     "outputs_hidden": true
    }
   },
   "outputs": [
    {
     "data": {
      "text/plain": [
       "(bool, bool)"
      ]
     },
     "execution_count": 193,
     "metadata": {},
     "output_type": "execute_result"
    }
   ],
   "source": [
    "# pour finir les booléens\n",
    "par_exemple = True\n",
    "ou_pas = False\n",
    "type(par_exemple), type(ou_pas)"
   ]
  },
  {
   "cell_type": "code",
   "execution_count": 194,
   "metadata": {
    "jupyter": {
     "outputs_hidden": true
    }
   },
   "outputs": [
    {
     "data": {
      "text/plain": [
       "True"
      ]
     },
     "execution_count": 194,
     "metadata": {},
     "output_type": "execute_result"
    }
   ],
   "source": [
    "# Il y a plusieurs opérateurs pour les conditions\n",
    "a > 0"
   ]
  },
  {
   "cell_type": "code",
   "execution_count": 195,
   "metadata": {},
   "outputs": [
    {
     "data": {
      "text/plain": [
       "False"
      ]
     },
     "execution_count": 195,
     "metadata": {},
     "output_type": "execute_result"
    }
   ],
   "source": [
    "a >= 31"
   ]
  },
  {
   "cell_type": "code",
   "execution_count": 196,
   "metadata": {},
   "outputs": [
    {
     "data": {
      "text/plain": [
       "False"
      ]
     },
     "execution_count": 196,
     "metadata": {},
     "output_type": "execute_result"
    }
   ],
   "source": [
    "# Egalité\n",
    "a == 15"
   ]
  },
  {
   "cell_type": "code",
   "execution_count": 197,
   "metadata": {},
   "outputs": [
    {
     "name": "stdout",
     "output_type": "stream",
     "text": [
      "a = 22\n",
      "True\n",
      "False\n"
     ]
    }
   ],
   "source": [
    "# On peut enchaîner les conditions avec des opérateurs and et or respectivement\n",
    "print(\"a = \" + str(a)) # pour concaténer un int avec un string il faut le cast en string en utilisant str()\n",
    "print(a == 12 or a >= 0)\n",
    "print(a == 12 and a >= 0)"
   ]
  },
  {
   "cell_type": "code",
   "execution_count": 198,
   "metadata": {},
   "outputs": [
    {
     "name": "stdout",
     "output_type": "stream",
     "text": [
      "True\n",
      "False\n"
     ]
    }
   ],
   "source": [
    "# Les opérateurs & et | nécéssitent des parenthèses pour la séparation des conditions\n",
    "print((a == 12) | (a >= 0))\n",
    "print((a == 12) & (a >= 0))"
   ]
  },
  {
   "cell_type": "code",
   "execution_count": 199,
   "metadata": {},
   "outputs": [
    {
     "name": "stdout",
     "output_type": "stream",
     "text": [
      "True\n",
      "False\n"
     ]
    }
   ],
   "source": [
    "# opérateur \"in\" qui permet de voir si un élément est présent dans une séquence, ici un string\n",
    "print('b' in 'bonjour je suis là')\n",
    "print(3 in [1,4,5])"
   ]
  },
  {
   "cell_type": "markdown",
   "metadata": {},
   "source": [
    "Les conditions\n",
    "--------\n",
    "\n",
    "Synthaxe:\n",
    "\n",
    "```python\n",
    "if condition:\n",
    "    code_a_executer()\n",
    "elif autre_condition:\n",
    "    un_autre_code_a_executer()\n",
    "else:\n",
    "    pour_le_reste()\n",
    "```\n",
    "\n",
    "Attention à l'indentation!"
   ]
  },
  {
   "cell_type": "code",
   "execution_count": 200,
   "metadata": {},
   "outputs": [
    {
     "name": "stdout",
     "output_type": "stream",
     "text": [
      "a qui vaut 196 est bien supérieur à b qui vaut 195\n",
      "autre chose\n"
     ]
    }
   ],
   "source": [
    "a = 14 * 14\n",
    "b = 15 * 13\n",
    "\n",
    "if a > b:\n",
    "    print(f\"a qui vaut {a} est bien supérieur à b qui vaut {b}\")\n",
    "    print('autre chose')\n",
    "else:\n",
    "    print(\"ou pas\")"
   ]
  },
  {
   "cell_type": "code",
   "execution_count": 201,
   "metadata": {},
   "outputs": [
    {
     "name": "stdout",
     "output_type": "stream",
     "text": [
      "a qui vaut 196 est bien supérieur à b qui vaut 195\n",
      "ou pas\n"
     ]
    }
   ],
   "source": [
    "# Une mauvaise indentation ne donnera pas le résultat attendu voire des erreurs\n",
    "if a > b:\n",
    "    print(f\"a qui vaut {a} est bien supérieur à b qui vaut {b}\")\n",
    "else:\n",
    "    pass\n",
    "print(\"ou pas\")"
   ]
  },
  {
   "cell_type": "code",
   "execution_count": 202,
   "metadata": {},
   "outputs": [
    {
     "name": "stdout",
     "output_type": "stream",
     "text": [
      "42000\n"
     ]
    }
   ],
   "source": [
    "# Il est possible de mettre une opération if en une seule ligne mais pour plus de lisibilité on préférera utiliser l'indentation\n",
    "ce_nest_pas_super_lisible = 42\n",
    "if ce_nest_pas_super_lisible<50: ce_nest_pas_super_lisible = ce_nest_pas_super_lisible * 1000; print(ce_nest_pas_super_lisible)"
   ]
  },
  {
   "cell_type": "code",
   "execution_count": 203,
   "metadata": {},
   "outputs": [
    {
     "name": "stdout",
     "output_type": "stream",
     "text": [
      "La promo IA c'est cool\n"
     ]
    }
   ],
   "source": [
    "# les elif permettent d'avoir plusieurs conditions qui se suivent\n",
    "variable = 64\n",
    "phrase = \"La promo IA c'est cool\"\n",
    "\n",
    "if variable > 100:\n",
    "    variable -= 50\n",
    "    print(f\"Voici ma variable -50: {variable}\")\n",
    "elif variable == 50:\n",
    "    variable = 42\n",
    "    print(f\"Je préfère le nombre {variable}\")\n",
    "else:\n",
    "    print(phrase)"
   ]
  },
  {
   "cell_type": "markdown",
   "metadata": {},
   "source": [
    "Exo 3\n",
    "----------\n",
    "\n",
    "Vérifier que la longueur de ```mon_string``` est bien supérieure à 42, sinon réassigner la variable ```mon_string``` à \"Tant pis\" et imprimer ```mon_string```. Tester avec plusieurs valeurs pour ```mon_string```"
   ]
  },
  {
   "cell_type": "code",
   "execution_count": 204,
   "metadata": {},
   "outputs": [
    {
     "name": "stdout",
     "output_type": "stream",
     "text": [
      "Bonjour, appuyer sans cesse sur shift+enter m'épuise\n"
     ]
    }
   ],
   "source": [
    "size = len(mon_string)\n",
    "if size < 42:\n",
    "    mon_string = \"Tant pis\"\n",
    "print(mon_string)"
   ]
  },
  {
   "cell_type": "markdown",
   "metadata": {},
   "source": [
    "Les boucles\n",
    "----------\n",
    "Il existe deux types de boucle sous python.\n",
    "\n",
    "Boucle ```while```:\n",
    "\n",
    "```python\n",
    "while condition:\n",
    "    ici_le_code_a_executer()\n",
    "```\n",
    "Les boucles ```while``` vont exécuter le code indenté tant que la condition reste vraie. Attention: les boucles infinies sont courantes avec ces boucles\n",
    "\n",
    "Boucle ```for```:\n",
    "\n",
    "```python\n",
    "for mon_element in une_sequence:\n",
    "    ici_mon_code(mon_element)\n",
    "```\n",
    "\n",
    "Les boucles ```for``` itèrent sur chaque élément d'une séquence. Cet élément est ensuite à disposition dans le code indenté.\n",
    "\n",
    "Il est possible d'interrompre l'exécution d'une cellule en utilisant le bouton avec l'icône stop dans la barre en haut de l'écran"
   ]
  },
  {
   "cell_type": "code",
   "execution_count": 205,
   "metadata": {},
   "outputs": [],
   "source": [
    "import time"
   ]
  },
  {
   "cell_type": "code",
   "execution_count": 207,
   "metadata": {
    "scrolled": true
   },
   "outputs": [
    {
     "name": "stdout",
     "output_type": "stream",
     "text": [
      "devIA\n",
      "devIAdevIA\n",
      "devIAdevIAdevIA\n",
      "devIAdevIAdevIAdevIA\n",
      "devIAdevIAdevIAdevIAdevIA\n",
      "devIAdevIAdevIAdevIAdevIAdevIA\n",
      "devIAdevIAdevIAdevIAdevIAdevIAdevIA\n"
     ]
    },
    {
     "ename": "KeyboardInterrupt",
     "evalue": "",
     "output_type": "error",
     "traceback": [
      "\u001b[0;31m---------------------------------------------------------------------------\u001b[0m",
      "\u001b[0;31mKeyboardInterrupt\u001b[0m                         Traceback (most recent call last)",
      "Input \u001b[0;32mIn [207]\u001b[0m, in \u001b[0;36m<cell line: 4>\u001b[0;34m()\u001b[0m\n\u001b[1;32m      2\u001b[0m subliminal \u001b[38;5;241m=\u001b[39m \u001b[38;5;124m\"\u001b[39m\u001b[38;5;124m\"\u001b[39m\n\u001b[1;32m      3\u001b[0m \u001b[38;5;28;01mwhile\u001b[39;00m \u001b[38;5;28;01mTrue\u001b[39;00m:\n\u001b[0;32m----> 4\u001b[0m     \u001b[43mtime\u001b[49m\u001b[38;5;241;43m.\u001b[39;49m\u001b[43msleep\u001b[49m\u001b[43m(\u001b[49m\u001b[38;5;241;43m0.5\u001b[39;49m\u001b[43m)\u001b[49m\n\u001b[1;32m      5\u001b[0m     subliminal \u001b[38;5;241m+\u001b[39m\u001b[38;5;241m=\u001b[39m \u001b[38;5;124m\"\u001b[39m\u001b[38;5;124mdevIA\u001b[39m\u001b[38;5;124m\"\u001b[39m\n\u001b[1;32m      6\u001b[0m     \u001b[38;5;28mprint\u001b[39m(subliminal)\n",
      "\u001b[0;31mKeyboardInterrupt\u001b[0m: "
     ]
    }
   ],
   "source": [
    "# Il va falloir interompre cette boucle au plus vite. Il faut cliquer sur le carré stop/\"interrupt kernel\" dans la barre \"outils\"\n",
    "subliminal = \"\"\n",
    "while True:\n",
    "    time.sleep(0.5)\n",
    "    subliminal += \"devIA\"\n",
    "    print(subliminal)"
   ]
  },
  {
   "cell_type": "code",
   "execution_count": null,
   "metadata": {},
   "outputs": [],
   "source": [
    "# Voici un exemple de boucle while.\n",
    "indice = 0\n",
    "while indice < 12:\n",
    "    time.sleep(0.5)\n",
    "    print(mon_string[indice])\n",
    "    indice += 1"
   ]
  },
  {
   "cell_type": "code",
   "execution_count": 208,
   "metadata": {
    "scrolled": true
   },
   "outputs": [
    {
     "name": "stdout",
     "output_type": "stream",
     "text": [
      "B\n",
      "o\n",
      "n\n",
      "j\n",
      "o\n",
      "u\n",
      "r\n",
      ",\n",
      " \n",
      "a\n",
      "p\n",
      "p\n"
     ]
    }
   ],
   "source": [
    "# Voici l'équivalent en boucle for\n",
    "# Pour rappel les strings se comportent comme des séquences de caractères\n",
    "for element in mon_string[:12]: # mon_string[:12] = \"bonjour, app\"\n",
    "    time.sleep(0.5)\n",
    "    print(element)\n",
    "    \n",
    "# Pour mieux comprendre ce qu'il se passe vous pouvez imprimer mon_string[:12]"
   ]
  },
  {
   "cell_type": "code",
   "execution_count": 209,
   "metadata": {},
   "outputs": [
    {
     "name": "stdout",
     "output_type": "stream",
     "text": [
      "B\n",
      "o\n",
      "n\n",
      "j\n",
      "o\n",
      "u\n",
      "r\n",
      ",\n",
      " \n",
      "a\n",
      "p\n",
      "p\n"
     ]
    }
   ],
   "source": [
    "for i in range(12):\n",
    "    time.sleep(0.5)\n",
    "    print(mon_string[i])"
   ]
  },
  {
   "cell_type": "code",
   "execution_count": 210,
   "metadata": {},
   "outputs": [
    {
     "name": "stdout",
     "output_type": "stream",
     "text": [
      "16\n",
      "16\n"
     ]
    }
   ],
   "source": [
    "# exemple de comptage d'élement dans un string\n",
    "ceci_est_un_test = \"Ceci est un test\"\n",
    "resultat = 0\n",
    "for el in ceci_est_un_test:\n",
    "    resultat += 1\n",
    "    \n",
    "print(resultat)\n",
    "print(len(ceci_est_un_test))"
   ]
  },
  {
   "cell_type": "code",
   "execution_count": 211,
   "metadata": {},
   "outputs": [
    {
     "name": "stdout",
     "output_type": "stream",
     "text": [
      "dans mon_string il y a 6 es\n",
      "Bonjour, appuyer sans cesse sur shift+enter m'épuise\n"
     ]
    }
   ],
   "source": [
    "# il est possible de combiner les boucles et conditions\n",
    "nombre_do = 0\n",
    "for element in mon_string:\n",
    "    if element == 'e':\n",
    "        nombre_do += 1\n",
    "\n",
    "print(f\"dans mon_string il y a {nombre_do} es\")\n",
    "print(mon_string)"
   ]
  },
  {
   "cell_type": "code",
   "execution_count": 212,
   "metadata": {
    "scrolled": true
   },
   "outputs": [
    {
     "name": "stdout",
     "output_type": "stream",
     "text": [
      "B\n",
      "o\n",
      "n\n",
      "j\n",
      "o\n",
      "u\n",
      "r\n",
      ",\n"
     ]
    }
   ],
   "source": [
    "# il est possible d'utiliser les mots clés break et continue pour interrompre des boucles. \n",
    "# Leur utilisation porte à confusion et peut compliquer le code inutilement dans un premier temps\n",
    "# évitez de les utiliser.\n",
    "\n",
    "for element in mon_string:\n",
    "    print(element)\n",
    "    if element == ',':\n",
    "        break"
   ]
  },
  {
   "cell_type": "markdown",
   "metadata": {},
   "source": [
    "Exo 4\n",
    "-------\n",
    "Compter le nombre de voyelles dans ```mon_string```. \n",
    "\n",
    "Indice: Plus haut on avait vu une condition qui permettait de voir si une lettre était présente dans un string."
   ]
  },
  {
   "cell_type": "code",
   "execution_count": 213,
   "metadata": {},
   "outputs": [
    {
     "name": "stdout",
     "output_type": "stream",
     "text": [
      "le nombre de voyelles dans Caroline est 4\n"
     ]
    }
   ],
   "source": [
    "count = 0\n",
    "mon_string = \"Caroline\"\n",
    "for char in mon_string:\n",
    "    if char in \"aeiouyéèêàù\":\n",
    "        count += 1\n",
    "print(f\"le nombre de voyelles dans {mon_string} est {count}\")"
   ]
  },
  {
   "cell_type": "markdown",
   "metadata": {},
   "source": [
    "Les fonctions\n",
    "----------------"
   ]
  },
  {
   "cell_type": "markdown",
   "metadata": {},
   "source": [
    "Dans ```python``` il est possible de mettre en place des fonctions pour automatiser certaines tâches par exemple. on utilise pour cela le mot clef ```def```\n",
    "\n",
    "```python\n",
    "def ma_fonction(parametre_1, parametre_2):\n",
    "    je_fais_ce_que_je_veux(en utilisant parametre_1 et parametre_2)\n",
    "    return ici_ce_que_je_veux_retourner\n",
    "```\n",
    "\n",
    "Les fonctions peuvent prendre des paramètres. Ceux-ci peuvent avoir des valeurs par défaut. Elles peuvent aussi renvoyer des résultats via ```return```.\n"
   ]
  },
  {
   "cell_type": "code",
   "execution_count": 214,
   "metadata": {},
   "outputs": [],
   "source": [
    "# un cas simple\n",
    "def imprimer_42():\n",
    "    print(42)\n",
    "    \n",
    "def imprimer_42_bis():\n",
    "    return 42"
   ]
  },
  {
   "cell_type": "code",
   "execution_count": 215,
   "metadata": {},
   "outputs": [
    {
     "name": "stdout",
     "output_type": "stream",
     "text": [
      "42\n",
      "<class 'NoneType'>\n",
      "<class 'int'>\n"
     ]
    }
   ],
   "source": [
    "# On peut appeler ensuite notre nouvelle méthode comme ci-suit\n",
    "a = imprimer_42() #print(42)\n",
    "print(type(a))\n",
    "\n",
    "b = imprimer_42_bis()\n",
    "print(type(b))"
   ]
  },
  {
   "cell_type": "code",
   "execution_count": 216,
   "metadata": {},
   "outputs": [],
   "source": [
    "# Il est possible d'avoir des paramètres dans une fonction\n",
    "def imprimer_42_avec_parametre(param):\n",
    "    print(f\"Je n'aime pas trop {param}, je préfère 42\")"
   ]
  },
  {
   "cell_type": "code",
   "execution_count": 217,
   "metadata": {},
   "outputs": [
    {
     "name": "stdout",
     "output_type": "stream",
     "text": [
      "Je n'aime pas trop 14, je préfère 42\n"
     ]
    }
   ],
   "source": [
    "imprimer_42_avec_parametre(14)"
   ]
  },
  {
   "cell_type": "code",
   "execution_count": 218,
   "metadata": {},
   "outputs": [],
   "source": [
    "# Une fonction peut retourner une variable\n",
    "def compter_les_voyelles(un_string):\n",
    "    nombre_voyelles = 0\n",
    "    for lettre in un_string:\n",
    "        if lettre in 'aeiouy':\n",
    "            nombre_voyelles += 1\n",
    "    return nombre_voyelles"
   ]
  },
  {
   "cell_type": "code",
   "execution_count": 219,
   "metadata": {},
   "outputs": [
    {
     "data": {
      "text/plain": [
       "(3, int)"
      ]
     },
     "execution_count": 219,
     "metadata": {},
     "output_type": "execute_result"
    }
   ],
   "source": [
    "a=compter_les_voyelles(\"Bonjour\")\n",
    "a, type(a)"
   ]
  },
  {
   "cell_type": "code",
   "execution_count": 220,
   "metadata": {},
   "outputs": [
    {
     "data": {
      "text/plain": [
       "17"
      ]
     },
     "execution_count": 220,
     "metadata": {},
     "output_type": "execute_result"
    }
   ],
   "source": [
    "# Le résultat de tout à l'heure\n",
    "mon_string = \"bonjour, appuyer sans cesse sur shift+enter m'épuise\"\n",
    "compter_les_voyelles(mon_string)"
   ]
  },
  {
   "cell_type": "code",
   "execution_count": 221,
   "metadata": {},
   "outputs": [],
   "source": [
    "# Il est possible de donner des valeurs par défaut à certains paramètres\n",
    "def multiplier_par_42_ou_pas(premier_int, deuxieme_int=42):\n",
    "    return premier_int*deuxieme_int"
   ]
  },
  {
   "cell_type": "code",
   "execution_count": 222,
   "metadata": {},
   "outputs": [
    {
     "data": {
      "text/plain": [
       "1764"
      ]
     },
     "execution_count": 222,
     "metadata": {},
     "output_type": "execute_result"
    }
   ],
   "source": [
    "multiplier_par_42_ou_pas(42)"
   ]
  },
  {
   "cell_type": "code",
   "execution_count": 223,
   "metadata": {},
   "outputs": [
    {
     "name": "stdout",
     "output_type": "stream",
     "text": [
      "testtesttest\n",
      "12\n"
     ]
    }
   ],
   "source": [
    "# Il est possible de modifier les deux paramètres en indiquant le bon nombre de paramètres\n",
    "\n",
    "print(multiplier_par_42_ou_pas(3,\"test\"))\n",
    "print(multiplier_par_42_ou_pas(3,4))"
   ]
  },
  {
   "cell_type": "code",
   "execution_count": 224,
   "metadata": {},
   "outputs": [
    {
     "data": {
      "text/plain": [
       "12"
      ]
     },
     "execution_count": 224,
     "metadata": {},
     "output_type": "execute_result"
    }
   ],
   "source": [
    "# Il est possible d'expliciter les paramètres avec un =\n",
    "\n",
    "multiplier_par_42_ou_pas(deuxieme_int=3, premier_int=4)"
   ]
  },
  {
   "cell_type": "markdown",
   "metadata": {},
   "source": [
    "Exo 5\n",
    "----------\n",
    "Créer une fonction ```python_c_est_la_vie``` qui prend en paramètre une chaîne de caractères et un chiffre ```n``` par défaut à 5. La fonction va imprimer tous les éléments multiples de n. \n",
    "\n",
    "Indice: l'opérateur ```\"%\"``` permet d'obtenir le reste de la division euclidienne."
   ]
  },
  {
   "cell_type": "code",
   "execution_count": 225,
   "metadata": {},
   "outputs": [
    {
     "name": "stdout",
     "output_type": "stream",
     "text": [
      "o\n",
      "u\n",
      " \n",
      " \n",
      "o\n",
      "c\n",
      " \n",
      "y\n"
     ]
    }
   ],
   "source": [
    "def python_c_la_vie(phrase, n = 5):\n",
    "    for i in range(len(phrase)):\n",
    "        if (i+1) % n == 0:\n",
    "            print(phrase[i])\n",
    "python_c_la_vie(\"hello, tout va bien je code! c'est du python\")"
   ]
  },
  {
   "cell_type": "code",
   "execution_count": 226,
   "metadata": {},
   "outputs": [
    {
     "name": "stdout",
     "output_type": "stream",
     "text": [
      "A l'indice 5 on a la lettre o\n",
      "A l'indice 10 on a la lettre u\n",
      "A l'indice 15 on a la lettre  \n",
      "A l'indice 20 on a la lettre  \n",
      "A l'indice 25 on a la lettre o\n",
      "A l'indice 30 on a la lettre c\n",
      "A l'indice 35 on a la lettre  \n",
      "A l'indice 40 on a la lettre y\n"
     ]
    }
   ],
   "source": [
    "def python_c_la_vie(phrase, n = 5):\n",
    "    for i in range(n, len(phrase), n):\n",
    "        print(f\"A l'indice {i} on a la lettre {phrase[i-1]}\")\n",
    "python_c_la_vie(\"hello, tout va bien je code! c'est du python\")"
   ]
  },
  {
   "cell_type": "code",
   "execution_count": 227,
   "metadata": {},
   "outputs": [
    {
     "name": "stdout",
     "output_type": "stream",
     "text": [
      "A l'indice 5 on a la lettre o\n",
      "A l'indice 10 on a la lettre u\n",
      "A l'indice 15 on a la lettre  \n",
      "A l'indice 20 on a la lettre  \n",
      "A l'indice 25 on a la lettre o\n",
      "A l'indice 30 on a la lettre c\n",
      "A l'indice 35 on a la lettre  \n",
      "A l'indice 40 on a la lettre y\n"
     ]
    }
   ],
   "source": [
    "def python_c_la_vie(phrase, n = 5):\n",
    "    for i, l in enumerate(phrase):\n",
    "        if (i+1) % n == 0:\n",
    "            print(f\"A l'indice {i+1} on a la lettre {l}\")\n",
    "        \n",
    "python_c_la_vie(\"hello, tout va bien je code! c'est du python\")"
   ]
  },
  {
   "cell_type": "markdown",
   "metadata": {},
   "source": [
    "Les imports\n",
    "-----------"
   ]
  },
  {
   "cell_type": "markdown",
   "metadata": {},
   "source": [
    "Un package que l'on peut traduire par module est une bibliothèque de méthodes ou de classes que l'on peut récupérer dans son code pour l'utiliser. Il existe énormément de packages en python permettant de faire du scraping ou de l'interrogation de base de données voire de la construction de site web. Plus tard dans le notebook, certains packages vont être présentés.\n",
    "\n",
    "Il est possible d'importer un package comme ceci:\n",
    "```python\n",
    "import mon_package\n",
    "```\n",
    "\n",
    "Plusieurs façons d'importer des packages sont possibles."
   ]
  },
  {
   "cell_type": "code",
   "execution_count": 228,
   "metadata": {},
   "outputs": [],
   "source": [
    "# on va commencer par importer le package \"math\" qui a un ensemble de fonctions comme par exemple sqrt\n",
    "import math"
   ]
  },
  {
   "cell_type": "code",
   "execution_count": 229,
   "metadata": {},
   "outputs": [
    {
     "data": {
      "text/plain": [
       "7.0"
      ]
     },
     "execution_count": 229,
     "metadata": {},
     "output_type": "execute_result"
    }
   ],
   "source": [
    "# On doit indiquer le module avant la fonction\n",
    "math.sqrt(49)"
   ]
  },
  {
   "cell_type": "code",
   "execution_count": 230,
   "metadata": {},
   "outputs": [],
   "source": [
    "# Il est possible de renommer un package pour en faciliter l'utilisation\n",
    "import math as mt"
   ]
  },
  {
   "cell_type": "code",
   "execution_count": 231,
   "metadata": {},
   "outputs": [
    {
     "data": {
      "text/plain": [
       "6.48074069840786"
      ]
     },
     "execution_count": 231,
     "metadata": {},
     "output_type": "execute_result"
    }
   ],
   "source": [
    "mt.sqrt(42)"
   ]
  },
  {
   "cell_type": "code",
   "execution_count": 232,
   "metadata": {},
   "outputs": [
    {
     "data": {
      "text/plain": [
       "6.48074069840786"
      ]
     },
     "execution_count": 232,
     "metadata": {},
     "output_type": "execute_result"
    }
   ],
   "source": [
    "# On peut aussi importer uniquemet certaines fonctions ou ensemble de fonctions qui nous intéressent\n",
    "# et les utiliser directement ensuite\n",
    "from math import sqrt\n",
    "sqrt(42)"
   ]
  },
  {
   "cell_type": "code",
   "execution_count": 233,
   "metadata": {},
   "outputs": [
    {
     "name": "stdout",
     "output_type": "stream",
     "text": [
      "Help on built-in function sqrt in module math:\n",
      "\n",
      "sqrt(x, /)\n",
      "    Return the square root of x.\n",
      "\n"
     ]
    }
   ],
   "source": [
    "# Il est possible de récupérer une aide sur une méthode via help(...) ou ... ?\n",
    "help(math.sqrt)"
   ]
  },
  {
   "cell_type": "markdown",
   "metadata": {},
   "source": [
    "En usage avancé de python il est possible de construire ses propres modules."
   ]
  },
  {
   "cell_type": "markdown",
   "metadata": {},
   "source": [
    "Les listes\n",
    "--------------"
   ]
  },
  {
   "cell_type": "markdown",
   "metadata": {},
   "source": [
    "Les listes sont des objets qui peuvent contenir d'autres objets dans un ordre précis. Comme les string ce sont des séquences mais au lieu de caractères ce sont des objets. On peut ainsi y mettre une succession de chiffres, des strings, d'autres listes, ou tout à la fois. Les listes sont définies par des crochets ```[]``` dans python. Comme les string on peut récupérer leurs éléments par indice voire par \"slicing\"."
   ]
  },
  {
   "cell_type": "code",
   "execution_count": 234,
   "metadata": {},
   "outputs": [
    {
     "name": "stdout",
     "output_type": "stream",
     "text": [
      "[]\n"
     ]
    }
   ],
   "source": [
    "# On peut initier une liste vide comme ceci\n",
    "ma_premiere_liste = [] #ou list()\n",
    "print(ma_premiere_liste)"
   ]
  },
  {
   "cell_type": "code",
   "execution_count": 235,
   "metadata": {},
   "outputs": [
    {
     "data": {
      "text/plain": [
       "(['abcdefghi'], ['a', 'b', 'c', 'd', 'e', 'f', 'g', 'h', 'i'])"
      ]
     },
     "execution_count": 235,
     "metadata": {},
     "output_type": "execute_result"
    }
   ],
   "source": [
    "l1 = ['abcdefghi']\n",
    "l2 = list('abcdefghi')\n",
    "l1, l2"
   ]
  },
  {
   "cell_type": "code",
   "execution_count": 236,
   "metadata": {},
   "outputs": [
    {
     "data": {
      "text/plain": [
       "list"
      ]
     },
     "execution_count": 236,
     "metadata": {},
     "output_type": "execute_result"
    }
   ],
   "source": [
    "# les listes sont du type list\n",
    "type(ma_premiere_liste)"
   ]
  },
  {
   "cell_type": "code",
   "execution_count": 237,
   "metadata": {},
   "outputs": [
    {
     "data": {
      "text/plain": [
       "[0, 1, 2, 3, 4, 5, 6, 7]"
      ]
     },
     "execution_count": 237,
     "metadata": {},
     "output_type": "execute_result"
    }
   ],
   "source": [
    "# On peut définir directement une liste avec l'ensemble de ses éléments\n",
    "ma_deuxieme_liste = [0,1,2,3,4,5,6,7]\n",
    "ma_deuxieme_liste"
   ]
  },
  {
   "cell_type": "code",
   "execution_count": 238,
   "metadata": {},
   "outputs": [
    {
     "data": {
      "text/plain": [
       "['DREES', 178, '10-18 place des 5 martyrs du lycée buffon', 4.7]"
      ]
     },
     "execution_count": 238,
     "metadata": {},
     "output_type": "execute_result"
    }
   ],
   "source": [
    "# les objets à l'intérieur d'une liste n'ont pas besoin d'être du même type\n",
    "ma_troisieme_liste = [\"DREES\", 178, \"10-18 place des 5 martyrs du lycée buffon\", 4.7]\n",
    "ma_troisieme_liste"
   ]
  },
  {
   "cell_type": "code",
   "execution_count": 239,
   "metadata": {},
   "outputs": [
    {
     "data": {
      "text/plain": [
       "2"
      ]
     },
     "execution_count": 239,
     "metadata": {},
     "output_type": "execute_result"
    }
   ],
   "source": [
    "# Comme dans les string ont peut récupérer les éléments de la liste via leur indice ou par slicing\n",
    "ma_deuxieme_liste[2]"
   ]
  },
  {
   "cell_type": "code",
   "execution_count": 240,
   "metadata": {},
   "outputs": [
    {
     "data": {
      "text/plain": [
       "[2, 3, 4, 5]"
      ]
     },
     "execution_count": 240,
     "metadata": {},
     "output_type": "execute_result"
    }
   ],
   "source": [
    "ma_deuxieme_liste[2:-2]"
   ]
  },
  {
   "cell_type": "code",
   "execution_count": 241,
   "metadata": {},
   "outputs": [
    {
     "data": {
      "text/plain": [
       "[42, 1, 2, 3, 4, 5, 6, 7]"
      ]
     },
     "execution_count": 241,
     "metadata": {},
     "output_type": "execute_result"
    }
   ],
   "source": [
    "# Contrairement aux strings les listes sont mutables, on peut modifier les éléments de la liste, en ajouter, en supprimer\n",
    "ma_deuxieme_liste[0] = 42\n",
    "ma_deuxieme_liste"
   ]
  },
  {
   "cell_type": "code",
   "execution_count": 242,
   "metadata": {},
   "outputs": [],
   "source": [
    "# la méthode .append(élément) permet d'ajouter des élements en fin de liste\n",
    "ma_deuxieme_liste.append(42)\n",
    "# A noter que contrairement au string on a pas besoin de réassigner la variable ma_deuxieme_liste à ma_deuxieme_liste.append(42)\n",
    "# ma_deuxieme_liste est modifiée directement"
   ]
  },
  {
   "cell_type": "code",
   "execution_count": 243,
   "metadata": {},
   "outputs": [
    {
     "data": {
      "text/plain": [
       "[42, 1, 2, 3, 4, 5, 6, 7, 42]"
      ]
     },
     "execution_count": 243,
     "metadata": {},
     "output_type": "execute_result"
    }
   ],
   "source": [
    "ma_deuxieme_liste"
   ]
  },
  {
   "cell_type": "code",
   "execution_count": 244,
   "metadata": {},
   "outputs": [
    {
     "data": {
      "text/plain": [
       "[42, 1, 2, 3, 4, 'jpp', 5, 6, 7, 42]"
      ]
     },
     "execution_count": 244,
     "metadata": {},
     "output_type": "execute_result"
    }
   ],
   "source": [
    "# .insert(indice, élément) permet d'ajouter un élément à l'indice désiré\n",
    "ma_deuxieme_liste.insert(5, 'jpp')\n",
    "ma_deuxieme_liste"
   ]
  },
  {
   "cell_type": "code",
   "execution_count": 245,
   "metadata": {},
   "outputs": [
    {
     "data": {
      "text/plain": [
       "[1, 2, 3, 4, 'jpp', 5, 6, 7, 42]"
      ]
     },
     "execution_count": 245,
     "metadata": {},
     "output_type": "execute_result"
    }
   ],
   "source": [
    "# on peut supprimer des éléments soit par indice avec del\n",
    "del ma_deuxieme_liste[0] # suppresion du premier élément\n",
    "ma_deuxieme_liste"
   ]
  },
  {
   "cell_type": "code",
   "execution_count": 246,
   "metadata": {},
   "outputs": [
    {
     "data": {
      "text/plain": [
       "[2, 3, 4, 'jpp', 5, 6, 7, 42]"
      ]
     },
     "execution_count": 246,
     "metadata": {},
     "output_type": "execute_result"
    }
   ],
   "source": [
    "# ou la méthode .pop(indice)\n",
    "ma_deuxieme_liste.pop(0)\n",
    "ma_deuxieme_liste"
   ]
  },
  {
   "cell_type": "code",
   "execution_count": 247,
   "metadata": {},
   "outputs": [
    {
     "data": {
      "text/plain": [
       "[2, 3, 4, 'jpp', 5, 6, 7]"
      ]
     },
     "execution_count": 247,
     "metadata": {},
     "output_type": "execute_result"
    }
   ],
   "source": [
    "ma_deuxieme_liste.pop()\n",
    "ma_deuxieme_liste"
   ]
  },
  {
   "cell_type": "code",
   "execution_count": 248,
   "metadata": {},
   "outputs": [
    {
     "data": {
      "text/plain": [
       "[2, 3, 4, 5, 6, 7]"
      ]
     },
     "execution_count": 248,
     "metadata": {},
     "output_type": "execute_result"
    }
   ],
   "source": [
    "# soit par valeur avec .remove(élément)\n",
    "ma_deuxieme_liste.remove('jpp')\n",
    "ma_deuxieme_liste"
   ]
  },
  {
   "cell_type": "code",
   "execution_count": 249,
   "metadata": {},
   "outputs": [
    {
     "data": {
      "text/plain": [
       "[2, 1, 1, 1]"
      ]
     },
     "execution_count": 249,
     "metadata": {},
     "output_type": "execute_result"
    }
   ],
   "source": [
    "# Attention .remove ne supprime que le premier élément de la liste avec la valeur que l'on veut remove\n",
    "des_uns = [1,2,1,1,1]\n",
    "des_uns.remove(1)\n",
    "des_uns"
   ]
  },
  {
   "cell_type": "code",
   "execution_count": 251,
   "metadata": {},
   "outputs": [
    {
     "data": {
      "text/plain": [
       "[2,\n",
       " 3,\n",
       " 4,\n",
       " 5,\n",
       " 6,\n",
       " 7,\n",
       " 'DREES',\n",
       " 178,\n",
       " '10-18 place des 5 martyrs du lycée buffon',\n",
       " 4.7]"
      ]
     },
     "execution_count": 251,
     "metadata": {},
     "output_type": "execute_result"
    }
   ],
   "source": [
    "# Comme les string on peut concaténer ou multiplier des listes\n",
    "ma_deuxieme_liste + ma_troisieme_liste"
   ]
  },
  {
   "cell_type": "code",
   "execution_count": 253,
   "metadata": {},
   "outputs": [
    {
     "data": {
      "text/plain": [
       "[2, 3, 4, 5, 6, 7, 2, 3, 4, 5, 6, 7]"
      ]
     },
     "execution_count": 253,
     "metadata": {},
     "output_type": "execute_result"
    }
   ],
   "source": [
    "ma_deuxieme_liste * 2\n"
   ]
  },
  {
   "cell_type": "code",
   "execution_count": 254,
   "metadata": {},
   "outputs": [
    {
     "data": {
      "text/plain": [
       "[2, 3, 4, 5, 6, 7, 12, 14, 20]"
      ]
     },
     "execution_count": 254,
     "metadata": {},
     "output_type": "execute_result"
    }
   ],
   "source": [
    "# .extend(list) permet d'ajouter plusieurs éléments d'un coup\n",
    "ma_deuxieme_liste.extend([12,14,20])\n",
    "ma_deuxieme_liste"
   ]
  },
  {
   "cell_type": "code",
   "execution_count": 255,
   "metadata": {},
   "outputs": [
    {
     "data": {
      "text/plain": [
       "[2, 3, 4, 5, 6, 7, 12, 14, 20, 'a', 'z', 'e', 'r', 't', 'y']"
      ]
     },
     "execution_count": 255,
     "metadata": {},
     "output_type": "execute_result"
    }
   ],
   "source": [
    "ma_deuxieme_liste.extend('azerty')\n",
    "ma_deuxieme_liste"
   ]
  },
  {
   "cell_type": "code",
   "execution_count": 256,
   "metadata": {},
   "outputs": [
    {
     "name": "stdout",
     "output_type": "stream",
     "text": [
      "2\n",
      "3\n",
      "4\n",
      "5\n",
      "6\n",
      "7\n",
      "12\n",
      "14\n",
      "20\n",
      "a\n",
      "z\n",
      "e\n",
      "r\n",
      "t\n",
      "y\n"
     ]
    }
   ],
   "source": [
    "# On peut parcourir les éléments d'une liste par une boucle for comme on l'a vu dans le cas des strings\n",
    "for element in ma_deuxieme_liste:\n",
    "    print(element)"
   ]
  },
  {
   "cell_type": "code",
   "execution_count": 257,
   "metadata": {},
   "outputs": [
    {
     "name": "stdout",
     "output_type": "stream",
     "text": [
      "[2, 3, 4, 5, 6, 7, 12, 14, 20, 'a', 'z', 'e', 'r', 't'] y\n",
      "[2, 3, 4, 5, 6, 7, 12, 14, 20, 'a', 'z', 'e', 'r'] t\n",
      "[2, 3, 4, 5, 6, 7, 12, 14, 20, 'a', 'z', 'e'] r\n",
      "[2, 3, 4, 5, 6, 7, 12, 14, 20, 'a', 'z'] e\n",
      "[2, 3, 4, 5, 6, 7, 12, 14, 20, 'a'] z\n",
      "[2, 3, 4, 5, 6, 7, 12, 14, 20] a\n",
      "[2, 3, 4, 5, 6, 7, 12, 14] 20\n",
      "[2, 3, 4, 5, 6, 7, 12] 14\n",
      "[2, 3, 4, 5, 6, 7] 12\n",
      "[2, 3, 4, 5, 6] 7\n",
      "[2, 3, 4, 5] 6\n",
      "[2, 3, 4] 5\n",
      "[2, 3] 4\n",
      "[2] 3\n"
     ]
    }
   ],
   "source": [
    "while len(ma_deuxieme_liste)>1:\n",
    "    a = ma_deuxieme_liste.pop() # par défaut pop supprime le dernier élément\n",
    "    print(ma_deuxieme_liste, a)"
   ]
  },
  {
   "cell_type": "code",
   "execution_count": 264,
   "metadata": {},
   "outputs": [
    {
     "name": "stdout",
     "output_type": "stream",
     "text": [
      "(0, 'DREES')\n",
      "DREES\n",
      "(1, 178)\n",
      "178\n",
      "(2, '10-18 place des 5 martyrs du lycée buffon')\n",
      "10-18 place des 5 martyrs du lycée buffon\n",
      "(3, 4.7)\n",
      "4.7\n"
     ]
    }
   ],
   "source": [
    "# la méthode enumerate peut être utile pour récupérer à la fois un élément d'une liste mais aussi son indice\n",
    "for double in enumerate(ma_troisieme_liste):\n",
    "    print(double)\n",
    "    print(double[1])"
   ]
  },
  {
   "cell_type": "code",
   "execution_count": 265,
   "metadata": {},
   "outputs": [
    {
     "name": "stdout",
     "output_type": "stream",
     "text": [
      "Indice: 0, élément: DREES\n",
      "Indice: 1, élément: 178\n",
      "Indice: 2, élément: 10-18 place des 5 martyrs du lycée buffon\n",
      "Indice: 3, élément: 4.7\n"
     ]
    }
   ],
   "source": [
    "# on peut récupérer ces deux variables proprement comme ceci :\n",
    "for indice, element in enumerate(ma_troisieme_liste):\n",
    "    print(f\"Indice: {indice}, élément: {element}\")"
   ]
  },
  {
   "cell_type": "code",
   "execution_count": 268,
   "metadata": {
    "scrolled": true
   },
   "outputs": [
    {
     "name": "stdout",
     "output_type": "stream",
     "text": [
      "resultat: [1, 4, 9, 16, 25, 36, 49, 64]\n",
      "resultat_cl: [1, 4, 9, 16, 25, 36, 49, 64]\n",
      "resultat_cl_pairs: [4, 16, 36, 64]\n"
     ]
    }
   ],
   "source": [
    "# Il est possible de faire des modifications de liste ou filtrage de liste via \n",
    "# des compréhensions de listes. La synthaxe se fait entre []\n",
    "# Ci-suit un exemple pour faire deux fois la même chose via une boucle ou une compréhension de liste\n",
    "liste_origine = [1,2,3,4,5,6,7,8]\n",
    "resultat = []\n",
    "for element in liste_origine:\n",
    "    resultat.append(element * element) # on crée une liste dont les élément sont le carré de liste_origine\n",
    "\n",
    "resultat_cl = [element * element for element in liste_origine]\n",
    "\n",
    "resultat_cl_pairs= [element * element for element in liste_origine if element%2==0]\n",
    "\n",
    "print(f\"resultat: {resultat}\")\n",
    "print(f\"resultat_cl: {resultat_cl}\")\n",
    "print(f\"resultat_cl_pairs: {resultat_cl_pairs}\")"
   ]
  },
  {
   "cell_type": "code",
   "execution_count": 269,
   "metadata": {},
   "outputs": [
    {
     "name": "stdout",
     "output_type": "stream",
     "text": [
      "resultat: [2, 4, 6, 8]\n",
      "resultat_cl: [2, 4, 6, 8]\n"
     ]
    }
   ],
   "source": [
    "# Il est possible de faire du filtrage aussi\n",
    "resultat = []\n",
    "for element in liste_origine:\n",
    "    if element%2==0: #Si l'élément est pair on l'ajoute à la liste  \n",
    "        resultat.append(element)\n",
    "\n",
    "resultat_cl = [element for element in liste_origine if element%2 == 0]\n",
    "\n",
    "print(f\"resultat: {resultat}\")\n",
    "print(f\"resultat_cl: {resultat_cl}\")"
   ]
  },
  {
   "cell_type": "markdown",
   "metadata": {},
   "source": [
    "Exo 6\n",
    "-------"
   ]
  },
  {
   "cell_type": "markdown",
   "metadata": {},
   "source": [
    "À partir de la liste ```poprock``` ajouter les années d'activité qui suivent la virgule dans une liste ```annees_actives```. Imprimer chaque élément de ```annees_actives```. \n",
    "\n",
    "_Indice_: Plusieurs manières de le faire, une bonne idée est d'utiliser la méthode ```.split()``` des strings. Pour voir la doc: ```help(str.split)```"
   ]
  },
  {
   "cell_type": "code",
   "execution_count": 270,
   "metadata": {},
   "outputs": [],
   "source": [
    "poprock = [\"The Beatles, 1960-1970\", \n",
    "           \"The Rolling Stones, depuis 1962\", \n",
    "           \"Pink Floyd, 1965-1995\", \n",
    "           \"Led Zeppelin, 1968-1980\",\n",
    "           \"The Who, 1964-1983\",\n",
    "           \"Queen, depuis 1971\",\n",
    "           \"Depeche Mode, depuis 1980\", \n",
    "           \"Radiohead, depuis 1985\", \n",
    "           \"The Smiths, 1982-1987\",\n",
    "           \"The Libertines, 1997-2004\", \n",
    "           \"Arctic Monkeys, 2002-2014\"]"
   ]
  },
  {
   "cell_type": "code",
   "execution_count": 271,
   "metadata": {},
   "outputs": [
    {
     "name": "stdout",
     "output_type": "stream",
     "text": [
      "['1960-1970', 'depuis 1962', '1965-1995', '1968-1980', '1964-1983', 'depuis 1971', 'depuis 1980', 'depuis 1985', '1982-1987', '1997-2004', '2002-2014']\n"
     ]
    }
   ],
   "source": [
    "annees_actives =[]\n",
    "for element in poprock:\n",
    "    annees_actives.append(element.split(\", \")[1])\n",
    "print(annees_actives)"
   ]
  },
  {
   "cell_type": "code",
   "execution_count": 272,
   "metadata": {},
   "outputs": [],
   "source": [
    "annees = [element.split(\", \")[1] for element in poprock]\n",
    "#list comprehension"
   ]
  },
  {
   "cell_type": "markdown",
   "metadata": {},
   "source": [
    "Les dictionaires\n",
    "-----------------"
   ]
  },
  {
   "cell_type": "markdown",
   "metadata": {},
   "source": [
    "Les dictionaires sont comme les listes des objets contenant d'autres objets. À la différence des listes il n'y a pas d'ordre. Les données dans un dictionaire sont dans un format clé-valeur. Une clé va permettre de retrouver une valeur qui peut être de plusieurs types. Les crochets ```{}``` permettent de définir des dictionaires."
   ]
  },
  {
   "cell_type": "code",
   "execution_count": 273,
   "metadata": {},
   "outputs": [],
   "source": [
    "# on peut initialiser un dictionaire comme ci-suit\n",
    "mon_premier_dict = {}  #dict()"
   ]
  },
  {
   "cell_type": "code",
   "execution_count": 274,
   "metadata": {},
   "outputs": [
    {
     "data": {
      "text/plain": [
       "{'ma_cle': 'la_valeur_associee_a_ma_cle',\n",
       " 'mon prénom': 'Bob',\n",
       " 'mot de passe': '*******',\n",
       " 'un nombre': 12}"
      ]
     },
     "execution_count": 274,
     "metadata": {},
     "output_type": "execute_result"
    }
   ],
   "source": [
    "# On peut ajouter des éléments au dictionaire\n",
    "mon_premier_dict[\"ma_cle\"] = \"la_valeur_associee_a_ma_cle\"\n",
    "mon_premier_dict[\"mon prénom\"] = \"Bob\"\n",
    "mon_premier_dict[\"mot de passe\"] = \"*******\"\n",
    "mon_premier_dict[\"un nombre\"] = 12\n",
    "mon_premier_dict"
   ]
  },
  {
   "cell_type": "code",
   "execution_count": 275,
   "metadata": {},
   "outputs": [
    {
     "data": {
      "text/plain": [
       "{'ma_cle': 'la_valeur_associee_a_ma_cle',\n",
       " 'mon prénom': 'Bob',\n",
       " 'mot de passe': 1234,\n",
       " 'un nombre': 12}"
      ]
     },
     "execution_count": 275,
     "metadata": {},
     "output_type": "execute_result"
    }
   ],
   "source": [
    "# en modifiant la valeur à une clé on perd la version précédente\n",
    "mon_premier_dict[\"mot de passe\"] = 1234\n",
    "mon_premier_dict"
   ]
  },
  {
   "cell_type": "code",
   "execution_count": 276,
   "metadata": {},
   "outputs": [
    {
     "data": {
      "text/plain": [
       "'Bob'"
      ]
     },
     "execution_count": 276,
     "metadata": {},
     "output_type": "execute_result"
    }
   ],
   "source": [
    "# On peut récupérer un élément du dictionaire via une clé\n",
    "mon_premier_dict[\"mon prénom\"]"
   ]
  },
  {
   "cell_type": "code",
   "execution_count": 277,
   "metadata": {},
   "outputs": [
    {
     "data": {
      "text/plain": [
       "{'cle': 'valeur',\n",
       " 'prenom': 'Charles',\n",
       " 'nom': 'V',\n",
       " 'ville': 'Paris',\n",
       " 'cp': 75018,\n",
       " 'nombre de vaches': 3.14,\n",
       " 'mois': 'Novembre'}"
      ]
     },
     "execution_count": 277,
     "metadata": {},
     "output_type": "execute_result"
    }
   ],
   "source": [
    "# on peut initialiser directement un dictionaire via les {}\n",
    "mon_deuxieme_dict = {\n",
    "    \"cle\": \"valeur\",\n",
    "    \"prenom\": \"Charles\",\n",
    "    \"nom\": \"V\",\n",
    "    \"ville\": \"Paris\",\n",
    "    \"cp\": 75018,\n",
    "    \"nombre de vaches\": 3.14,\n",
    "    \"mois\": \"Novembre\"\n",
    "}\n",
    "mon_deuxieme_dict"
   ]
  },
  {
   "cell_type": "code",
   "execution_count": 278,
   "metadata": {},
   "outputs": [
    {
     "data": {
      "text/plain": [
       "({'cle': 'valeur',\n",
       "  'nom': 'V',\n",
       "  'ville': 'Paris',\n",
       "  'cp': 75018,\n",
       "  'nombre de vaches': 3.14,\n",
       "  'mois': 'Novembre'},\n",
       " 'Charles')"
      ]
     },
     "execution_count": 278,
     "metadata": {},
     "output_type": "execute_result"
    }
   ],
   "source": [
    "# Comme une liste on peu supprimer une valeur via del ou .pop(clé)\n",
    "a = mon_deuxieme_dict.pop(\"prenom\")\n",
    "mon_deuxieme_dict, a"
   ]
  },
  {
   "cell_type": "code",
   "execution_count": 279,
   "metadata": {},
   "outputs": [
    {
     "name": "stdout",
     "output_type": "stream",
     "text": [
      "cle\n",
      "nom\n",
      "ville\n",
      "cp\n",
      "nombre de vaches\n",
      "mois\n"
     ]
    }
   ],
   "source": [
    "# On peut parcourir une liste grâce à la boucle for. A noter que les dictionaire n'ont pas de structure ordonnée\n",
    "for element in mon_deuxieme_dict:\n",
    "    print(element)"
   ]
  },
  {
   "cell_type": "code",
   "execution_count": 280,
   "metadata": {},
   "outputs": [
    {
     "name": "stdout",
     "output_type": "stream",
     "text": [
      "cle\n",
      "nom\n",
      "ville\n",
      "cp\n",
      "nombre de vaches\n",
      "mois\n"
     ]
    }
   ],
   "source": [
    "# Par défaut en parcourant un dictionaire, on obtient les clés, un équivalent:\n",
    "for cle in mon_deuxieme_dict.keys():\n",
    "    print(cle)"
   ]
  },
  {
   "cell_type": "code",
   "execution_count": 281,
   "metadata": {},
   "outputs": [
    {
     "name": "stdout",
     "output_type": "stream",
     "text": [
      "valeur\n",
      "V\n",
      "Paris\n",
      "75018\n",
      "3.14\n",
      "Novembre\n"
     ]
    }
   ],
   "source": [
    "# pour le parcours des valeurs\n",
    "for valeur in mon_deuxieme_dict.values():\n",
    "    print(valeur)"
   ]
  },
  {
   "cell_type": "code",
   "execution_count": 282,
   "metadata": {},
   "outputs": [
    {
     "name": "stdout",
     "output_type": "stream",
     "text": [
      "la clé: cle | la valeur: valeur\n",
      "la clé: nom | la valeur: V\n",
      "la clé: ville | la valeur: Paris\n",
      "la clé: cp | la valeur: 75018\n",
      "la clé: nombre de vaches | la valeur: 3.14\n",
      "la clé: mois | la valeur: Novembre\n"
     ]
    }
   ],
   "source": [
    "# et les deux d'un coup via items()\n",
    "for cle, valeur in mon_deuxieme_dict.items():\n",
    "    print (f\"la clé: {cle} | la valeur: {valeur}\")"
   ]
  },
  {
   "cell_type": "code",
   "execution_count": 283,
   "metadata": {},
   "outputs": [
    {
     "name": "stdout",
     "output_type": "stream",
     "text": [
      "cle valeur\n",
      "nom V\n",
      "ville Paris\n",
      "cp 75018\n",
      "nombre de vaches 3.14\n",
      "mois Novembre\n"
     ]
    }
   ],
   "source": [
    "for item in mon_deuxieme_dict.items():\n",
    "    print(item[0], item[1])"
   ]
  },
  {
   "cell_type": "markdown",
   "metadata": {},
   "source": [
    "Exo 7\n",
    "-------------\n",
    "A partir de la liste ```poprock``` créer un dictionaire contenant en clé le nom du groupe et en valeur les dates d'activité. Imprimer chaque élément de ce dictionaire."
   ]
  },
  {
   "cell_type": "code",
   "execution_count": 284,
   "metadata": {},
   "outputs": [
    {
     "name": "stdout",
     "output_type": "stream",
     "text": [
      "{'The Beatles': '1960-1970', 'The Rolling Stones': 'depuis 1962', 'Pink Floyd': '1965-1995', 'Led Zeppelin': '1968-1980', 'The Who': '1964-1983', 'Queen': 'depuis 1971', 'Depeche Mode': 'depuis 1980', 'Radiohead': 'depuis 1985', 'The Smiths': '1982-1987', 'The Libertines': '1997-2004', 'Arctic Monkeys': '2002-2014'}\n"
     ]
    }
   ],
   "source": [
    "poprock = [\"The Beatles, 1960-1970\", \n",
    "           \"The Rolling Stones, depuis 1962\", \n",
    "           \"Pink Floyd, 1965-1995\", \n",
    "           \"Led Zeppelin, 1968-1980\",\n",
    "           \"The Who, 1964-1983\",\n",
    "           \"Queen, depuis 1971\",\n",
    "           \"Depeche Mode, depuis 1980\", \n",
    "           \"Radiohead, depuis 1985\", \n",
    "           \"The Smiths, 1982-1987\",\n",
    "           \"The Libertines, 1997-2004\", \n",
    "           \"Arctic Monkeys, 2002-2014\"]\n",
    "my_dict = {}\n",
    "for element in poprock:\n",
    "    key = element.split(\", \")[0]\n",
    "    value = element.split(', ')[1]\n",
    "    my_dict[key] = value\n",
    "\n",
    "print(my_dict)"
   ]
  },
  {
   "cell_type": "code",
   "execution_count": 286,
   "metadata": {},
   "outputs": [
    {
     "data": {
      "text/plain": [
       "{'The Beatles': '1960-1970',\n",
       " 'The Rolling Stones': 'depuis 1962',\n",
       " 'Pink Floyd': '1965-1995',\n",
       " 'Led Zeppelin': '1968-1980',\n",
       " 'The Who': '1964-1983',\n",
       " 'Queen': 'depuis 1971',\n",
       " 'Depeche Mode': 'depuis 1980',\n",
       " 'Radiohead': 'depuis 1985',\n",
       " 'The Smiths': '1982-1987',\n",
       " 'The Libertines': '1997-2004',\n",
       " 'Arctic Monkeys': '2002-2014'}"
      ]
     },
     "execution_count": 286,
     "metadata": {},
     "output_type": "execute_result"
    }
   ],
   "source": [
    "my_dict = {element.split(\", \")[0]: element.split(', ')[1] for element in poprock}\n",
    "my_dict\n"
   ]
  },
  {
   "cell_type": "code",
   "execution_count": null,
   "metadata": {},
   "outputs": [],
   "source": []
  }
 ],
 "metadata": {
  "kernelspec": {
   "display_name": "Python 3 (ipykernel)",
   "language": "python",
   "name": "python3"
  },
  "language_info": {
   "codemirror_mode": {
    "name": "ipython",
    "version": 3
   },
   "file_extension": ".py",
   "mimetype": "text/x-python",
   "name": "python",
   "nbconvert_exporter": "python",
   "pygments_lexer": "ipython3",
   "version": "3.9.12"
  }
 },
 "nbformat": 4,
 "nbformat_minor": 4
}
